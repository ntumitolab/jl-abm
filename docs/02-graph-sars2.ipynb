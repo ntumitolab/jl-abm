{
 "cells": [
  {
   "cell_type": "markdown",
   "metadata": {},
   "source": [
    "# The spread of SARS-CoV-2 (Graph model)\n",
    "\n",
    "[Source](https://juliadynamics.github.io/Agents.jl/stable/examples/sir/) from Agents.jl examples\n",
    "\n",
    "Here we add one more category of individuals: those who are infected, but do not know it. Transmission rate for infected and diagnosed individuals is lower than infected and undetected."
   ]
  },
  {
   "cell_type": "code",
   "execution_count": null,
   "metadata": {},
   "outputs": [],
   "source": [
    "using Agents, Random\n",
    "using Agents.DataFrames, Agents.Graphs\n",
    "using StatsBase: sample, Weights\n",
    "using LinearAlgebra: diagind\n",
    "using CairoMakie\n",
    "CairoMakie.activate!(px_per_unit = 1.0)"
   ]
  },
  {
   "cell_type": "markdown",
   "metadata": {},
   "source": [
    "## Define the Model"
   ]
  },
  {
   "cell_type": "code",
   "execution_count": null,
   "metadata": {},
   "outputs": [],
   "source": [
    "@agent struct PoorSoul(GraphAgent)\n",
    "    days_infected::Int  ## number of days since is infected\n",
    "    status::Symbol  ## S/I/R\n",
    "end"
   ]
  },
  {
   "cell_type": "markdown",
   "metadata": {},
   "source": [
    "Model factory function"
   ]
  },
  {
   "cell_type": "code",
   "execution_count": null,
   "metadata": {},
   "outputs": [],
   "source": [
    "function make_model(;\n",
    "    Ns,\n",
    "    migration_rates,\n",
    "    β_und,\n",
    "    β_det,\n",
    "    infection_period = 30,\n",
    "    reinfection_probability = 0.05,\n",
    "    detection_time = 14,\n",
    "    death_rate = 0.02,\n",
    "    Is = [zeros(Int, length(Ns) - 1)..., 1],\n",
    "    seed = 2024,\n",
    ")\n",
    "\n",
    "    rng = Xoshiro(seed)\n",
    "    @assert length(Ns) ==\n",
    "    length(Is) ==\n",
    "    length(β_und) ==\n",
    "    length(β_det) ==\n",
    "    size(migration_rates, 1) \"length of Ns, Is, and B, and number of rows/columns in migration_rates should be the same \"\n",
    "    @assert size(migration_rates, 1) == size(migration_rates, 2) \"migration_rates rates should be a square matrix\"\n",
    "\n",
    "    C = length(Ns) ## Number of cities\n",
    "\n",
    "    # normalize migration_rates\n",
    "    migration_rates_sum = sum(migration_rates, dims = 2)\n",
    "    for c in 1:C\n",
    "        migration_rates[c, :] ./= migration_rates_sum[c]\n",
    "    end\n",
    "\n",
    "    properties = (;\n",
    "        Ns,\n",
    "        Is,\n",
    "        β_und,\n",
    "        β_det,\n",
    "        migration_rates,\n",
    "        infection_period,\n",
    "        reinfection_probability,\n",
    "        detection_time,\n",
    "        C,\n",
    "        death_rate\n",
    "    )\n",
    "\n",
    "    space = GraphSpace(complete_graph(C))\n",
    "    model = StandardABM(PoorSoul, space; agent_step!, properties, rng)\n",
    "\n",
    "    # Add initial individuals\n",
    "    for city in 1:C, n in 1:Ns[city]\n",
    "        ind = add_agent!(city, model, 0, :S) ## Susceptible\n",
    "    end\n",
    "\n",
    "    # add infected individuals\n",
    "    for city in 1:C\n",
    "        inds = ids_in_position(city, model)\n",
    "        for n in 1:Is[city]\n",
    "            agent = model[inds[n]]\n",
    "            agent.status = :I ## Set infected individual\n",
    "            agent.days_infected = 1\n",
    "        end\n",
    "    end\n",
    "    return model\n",
    "end"
   ]
  },
  {
   "cell_type": "markdown",
   "metadata": {},
   "source": [
    "Parameter factory function"
   ]
  },
  {
   "cell_type": "code",
   "execution_count": null,
   "metadata": {},
   "outputs": [],
   "source": [
    "function create_params(;\n",
    "    C,\n",
    "    max_travel_rate,\n",
    "    infection_period = 30,\n",
    "    reinfection_probability = 0.05,\n",
    "    detection_time = 14,\n",
    "    death_rate = 0.02,\n",
    "    Is = [zeros(Int, C - 1)..., 1],\n",
    "    seed = 2024,\n",
    ")\n",
    "    rng = Xoshiro(seed)\n",
    "    Ns = rand(rng, 50:5000, C) ## City population\n",
    "    β_und = rand(rng, 0.3:0.02:0.6, C) ## Undetected transmission\n",
    "    β_det = β_und ./ 10 ## Detected transmission (set to 10% of undetected)\n",
    "\n",
    "    # Migrate from city i to city j\n",
    "\t# People in small cities tend to migrate to bigger cities\n",
    "    migration_rates = zeros(C, C)\n",
    "    for c in 1:C\n",
    "        for c2 in 1:C\n",
    "            migration_rates[c, c2] = (Ns[c] + Ns[c2]) / Ns[c]\n",
    "        end\n",
    "    end\n",
    "\n",
    "    # Normalize migration rates\n",
    "    maxM = maximum(migration_rates)\n",
    "    migration_rates = (migration_rates .* max_travel_rate) ./ maxM\n",
    "    # Migrate to self = 1\n",
    "    migration_rates[diagind(migration_rates)] .= 1.0\n",
    "\n",
    "    params = (;\n",
    "        Ns,\n",
    "        β_und,\n",
    "        β_det,\n",
    "        migration_rates,\n",
    "        infection_period,\n",
    "        reinfection_probability,\n",
    "        detection_time,\n",
    "        death_rate,\n",
    "        Is\n",
    "    )\n",
    "\n",
    "    return params\n",
    "end"
   ]
  },
  {
   "cell_type": "markdown",
   "metadata": {},
   "source": [
    "## Stepping functions"
   ]
  },
  {
   "cell_type": "code",
   "execution_count": null,
   "metadata": {},
   "outputs": [],
   "source": [
    "function agent_step!(agent, model)\n",
    "    migrate!(agent, model)\n",
    "    transmit!(agent, model)\n",
    "    update!(agent, model)\n",
    "    recover_or_die!(agent, model)\n",
    "    return nothing\n",
    "end\n",
    "\n",
    "function migrate!(agent, model)\n",
    "    pid = agent.pos\n",
    "    # StatsBase.sample\n",
    "    m = sample(abmrng(model), 1:(model.C), Weights(model.migration_rates[pid, :]))\n",
    "    if m ≠ pid\n",
    "        move_agent!(agent, m, model)\n",
    "    end\n",
    "    return nothing\n",
    "end\n",
    "\n",
    "function transmit!(agent, model)\n",
    "    agent.status == :S && return\n",
    "    rate = if agent.days_infected < model.detection_time\n",
    "        model.β_und[agent.pos]\n",
    "    else\n",
    "        model.β_det[agent.pos]\n",
    "    end\n",
    "\n",
    "    rng = abmrng(model)\n",
    "    n = rate * abs(randn(rng))\n",
    "    n <= 0 && return\n",
    "\n",
    "    for contactID in ids_in_position(agent, model)\n",
    "        contact = model[contactID]\n",
    "        if contact.status == :S ||\n",
    "           (contact.status == :R && rand(rng) ≤ model.reinfection_probability)\n",
    "            contact.status = :I\n",
    "            n -= 1\n",
    "            n <= 0 && return\n",
    "        end\n",
    "    end\n",
    "    return nothing\n",
    "end\n",
    "\n",
    "update!(agent, model) = agent.status == :I && (agent.days_infected += 1)\n",
    "\n",
    "function recover_or_die!(agent, model)\n",
    "    if agent.days_infected ≥ model.infection_period\n",
    "        if rand(abmrng(model)) ≤ model.death_rate\n",
    "            remove_agent!(agent, model)\n",
    "        else\n",
    "            agent.status = :R\n",
    "            agent.days_infected = 0\n",
    "        end\n",
    "    end\n",
    "    return nothing\n",
    "end"
   ]
  },
  {
   "cell_type": "markdown",
   "metadata": {},
   "source": [
    "Initialize the model"
   ]
  },
  {
   "cell_type": "code",
   "execution_count": null,
   "metadata": {},
   "outputs": [],
   "source": [
    "params = create_params(C = 10, max_travel_rate = 0.01)\n",
    "model = make_model(; params...)"
   ]
  },
  {
   "cell_type": "markdown",
   "metadata": {},
   "source": [
    "## Animation\n",
    "Observable: The quantity that updates dynamically and interactively Makie plots."
   ]
  },
  {
   "cell_type": "code",
   "execution_count": null,
   "metadata": {},
   "outputs": [],
   "source": [
    "abmobs = ABMObservable(model)\n",
    "\n",
    "infected_fraction(m, x) = count(m[id].status == :I for id in x) / length(x)\n",
    "infected_fractions(m) = [infected_fraction(m, ids_in_position(p, m)) for p in positions(m)]"
   ]
  },
  {
   "cell_type": "markdown",
   "metadata": {},
   "source": [
    "Connect (lift) observables to model stats"
   ]
  },
  {
   "cell_type": "code",
   "execution_count": null,
   "metadata": {},
   "outputs": [],
   "source": [
    "fracs = lift(infected_fractions, abmobs.model)\n",
    "color = lift(fs -> [cgrad(:inferno)[f] for f in fs], fracs)\n",
    "title = lift(\n",
    "    (m) -> \"step = $(abmtime(m)), infected = $(round(Int, 100infected_fraction(m, allids(m))))%\",\n",
    "    abmobs.model\n",
    ")"
   ]
  },
  {
   "cell_type": "markdown",
   "metadata": {},
   "source": [
    "Figure"
   ]
  },
  {
   "cell_type": "code",
   "execution_count": null,
   "metadata": {},
   "outputs": [],
   "source": [
    "fig = Figure(size = (600, 400))\n",
    "ax = Axis(fig[1, 1]; title, xlabel = \"City\", ylabel = \"Population\")\n",
    "barplot!(ax, model.Ns; strokecolor = :black, strokewidth = 1, color)\n",
    "fig"
   ]
  },
  {
   "cell_type": "markdown",
   "metadata": {},
   "source": [
    "Animation"
   ]
  },
  {
   "cell_type": "code",
   "execution_count": null,
   "metadata": {},
   "outputs": [],
   "source": [
    "Makie.Record(fig; framerate = 5) do io\n",
    "    for j in 1:30\n",
    "        recordframe!(io)\n",
    "        Agents.step!(abmobs, 1)\n",
    "    end\n",
    "    recordframe!(io)\n",
    "end"
   ]
  },
  {
   "cell_type": "markdown",
   "metadata": {},
   "source": [
    "## Data Collection\n",
    "Define helper functions"
   ]
  },
  {
   "cell_type": "code",
   "execution_count": null,
   "metadata": {},
   "outputs": [],
   "source": [
    "infected(x) = count(i == :I for i in x)\n",
    "recovered(x) = count(i == :R for i in x)"
   ]
  },
  {
   "cell_type": "markdown",
   "metadata": {},
   "source": [
    "Run the model and collect the data"
   ]
  },
  {
   "cell_type": "code",
   "execution_count": null,
   "metadata": {},
   "outputs": [],
   "source": [
    "model = make_model(; params...)\n",
    "to_collect = [(:status, f) for f in (infected, recovered, length)]\n",
    "data, _ = run!(model, 100; adata = to_collect)\n",
    "data[1:10, :]"
   ]
  },
  {
   "cell_type": "markdown",
   "metadata": {},
   "source": [
    "## Visualize"
   ]
  },
  {
   "cell_type": "code",
   "execution_count": null,
   "metadata": {},
   "outputs": [],
   "source": [
    "N = sum(model.Ns) ## Total initial population\n",
    "fig = Figure(size = (600, 400))\n",
    "ax = fig[1, 1] = Axis(fig, xlabel = \"steps\", ylabel = \"log10(count)\")\n",
    "li = lines!(ax, data.time, log10.(data[:, dataname((:status, infected))]), color = :blue)\n",
    "lr = lines!(ax, data.time, log10.(data[:, dataname((:status, recovered))]), color = :red)\n",
    "dead = log10.(N .- data[:, dataname((:status, length))])\n",
    "ld = lines!(ax, data.time, dead, color = :green)\n",
    "Legend(fig[1, 2], [li, lr, ld], [\"infected\", \"recovered\", \"dead\"])\n",
    "fig"
   ]
  }
 ],
 "metadata": {
  "kernelspec": {
   "display_name": "Julia 1.10.4",
   "language": "julia",
   "name": "julia-1.10"
  },
  "language_info": {
   "file_extension": ".jl",
   "mimetype": "application/julia",
   "name": "julia",
   "version": "1.10.4"
  }
 },
 "nbformat": 4,
 "nbformat_minor": 3
}
