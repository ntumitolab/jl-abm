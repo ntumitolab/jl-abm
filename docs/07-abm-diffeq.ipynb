{
 "cells": [
  {
   "cell_type": "markdown",
   "source": [
    "# ABM + DiffEq\n",
    "https://juliadynamics.github.io/Agents.jl/stable/examples/diffeq/"
   ],
   "metadata": {}
  },
  {
   "outputs": [],
   "cell_type": "code",
   "source": [
    "using Agents\n",
    "using Distributions\n",
    "using CairoMakie\n",
    "using OrdinaryDiffEq\n",
    "using DiffEqCallbacks\n",
    "CairoMakie.activate!(px_per_unit = 1.0)"
   ],
   "metadata": {},
   "execution_count": null
  },
  {
   "cell_type": "markdown",
   "source": [
    "Fisher agents"
   ],
   "metadata": {}
  },
  {
   "outputs": [],
   "cell_type": "code",
   "source": [
    "@agent struct Fisher(NoSpaceAgent)\n",
    "    competence::Int\n",
    "    yearly_catch::Float64\n",
    "end"
   ],
   "metadata": {},
   "execution_count": null
  },
  {
   "cell_type": "markdown",
   "source": [
    "Set fishing quota"
   ],
   "metadata": {}
  },
  {
   "outputs": [],
   "cell_type": "code",
   "source": [
    "function fish!(integrator, model)\n",
    "    integrator.p[2] = integrator.u[1] > model.min_threshold ?\n",
    "        sum(a.yearly_catch for a in allagents(model)) : 0.0\n",
    "    Agents.step!(model, 1)\n",
    "end"
   ],
   "metadata": {},
   "execution_count": null
  },
  {
   "cell_type": "markdown",
   "source": [
    "Fish population change"
   ],
   "metadata": {}
  },
  {
   "outputs": [],
   "cell_type": "code",
   "source": [
    "function fish_stock!(ds, s, p, t)\n",
    "    max_population, h = p\n",
    "    ds[1] = s[1] * (1 - (s[1] / max_population)) - h\n",
    "end"
   ],
   "metadata": {},
   "execution_count": null
  },
  {
   "cell_type": "markdown",
   "source": [
    "Agents catch the fish"
   ],
   "metadata": {}
  },
  {
   "outputs": [],
   "cell_type": "code",
   "source": [
    "function agent_cb_step!(agent, model)\n",
    "    agent.yearly_catch = rand(abmrng(model), Poisson(agent.competence))\n",
    "end"
   ],
   "metadata": {},
   "execution_count": null
  },
  {
   "cell_type": "markdown",
   "source": [
    "ABM model embedded in the callback"
   ],
   "metadata": {}
  },
  {
   "outputs": [],
   "cell_type": "code",
   "source": [
    "function initialise_cb(; min_threshold = 60.0, nagents = 50)\n",
    "    model = StandardABM(Fisher; agent_step! = agent_cb_step!,\n",
    "                        properties = Dict(:min_threshold => min_threshold))\n",
    "    for _ in 1:nagents\n",
    "        competence = floor(rand(abmrng(model), truncated(LogNormal(), 1, 6)))\n",
    "        add_agent!(model, competence, 0.0)\n",
    "    end\n",
    "    return model\n",
    "end"
   ],
   "metadata": {},
   "execution_count": null
  },
  {
   "cell_type": "markdown",
   "source": [
    "Setup the problem"
   ],
   "metadata": {}
  },
  {
   "outputs": [],
   "cell_type": "code",
   "source": [
    "modelcb = initialise_cb()\n",
    "tspan = (0.0, 20.0 * 365.0)\n",
    "initial_stock = 400.0\n",
    "max_population = 500.0\n",
    "prob = OrdinaryDiffEq.ODEProblem(fish_stock!, [initial_stock], tspan, [max_population, 0.0])\n",
    "\n",
    "# Each Dec 31st, we call fish! that adds our catch modifier to the stock, and steps the ABM model\n",
    "fish = DiffEqCallbacks.PeriodicCallback(i -> fish!(i, modelcb), 364)\n",
    "# Stocks are replenished again\n",
    "reset = DiffEqCallbacks.PeriodicCallback(i -> i.p[2] = 0.0, 365)\n",
    "\n",
    "@time sol = solve(prob, Tsit5();  callback = CallbackSet(fish, reset))"
   ],
   "metadata": {},
   "execution_count": null
  },
  {
   "outputs": [],
   "cell_type": "code",
   "source": [
    "discrete = vcat(sol(0:365:(365 * 20))[:,:]...)\n",
    "f = Figure(size = (600, 400))\n",
    "ax = f[1, 1] = Axis(\n",
    "        f,\n",
    "        xlabel = \"Year\",\n",
    "        ylabel = \"Stock\",\n",
    "        title = \"Fishery Inventory\",\n",
    "    )\n",
    "lines!(ax, discrete, linewidth = 2, color = :blue)\n",
    "f"
   ],
   "metadata": {},
   "execution_count": null
  },
  {
   "cell_type": "markdown",
   "source": [
    "---\n",
    "\n",
    "*This notebook was generated using [Literate.jl](https://github.com/fredrikekre/Literate.jl).*"
   ],
   "metadata": {}
  }
 ],
 "nbformat_minor": 3,
 "metadata": {
  "language_info": {
   "file_extension": ".jl",
   "mimetype": "application/julia",
   "name": "julia",
   "version": "1.11.4"
  },
  "kernelspec": {
   "name": "julia-1.11",
   "display_name": "Julia 1.11.4",
   "language": "julia"
  }
 },
 "nbformat": 4
}
