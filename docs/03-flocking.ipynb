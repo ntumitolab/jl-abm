{
 "cells": [
  {
   "cell_type": "markdown",
   "metadata": {},
   "source": [
    "# Flocking of birds\n",
    "\n",
    "The flock model illustrates how flocking behavior can emerge when each bird follows three simple rules:\n",
    "\n",
    "- maintain a minimum distance from other birds to avoid collision\n",
    "- fly towards the average position of neighbors\n",
    "- fly in the average direction of neighbors"
   ]
  },
  {
   "cell_type": "markdown",
   "metadata": {},
   "source": [
    "## Model setup"
   ]
  },
  {
   "cell_type": "code",
   "execution_count": null,
   "metadata": {},
   "outputs": [],
   "source": [
    "using Agents, LinearAlgebra\n",
    "\n",
    "mutable struct Bird <: AbstractAgent\n",
    "    id::Int\n",
    "    pos::NTuple{2,Float64}\n",
    "    vel::NTuple{2,Float64}   # Moving in ContinuousSpace\n",
    "    speed::Float64           # How far the bird travels\n",
    "    cohere_factor::Float64   # the importance of maintaining the average position of neighbors\n",
    "    separation::Float64      # the minimum distance a bird must maintain from its neighbors\n",
    "    separate_factor::Float64 # the importance of maintaining the minimum distance from neighboring birds\n",
    "    match_factor::Float64    # the importance of matching the average trajectory of neighboring birds\n",
    "    visual_distance::Float64 # the distance a bird can see and defines a radius of neighboring birds\n",
    "end"
   ]
  },
  {
   "cell_type": "code",
   "execution_count": null,
   "metadata": {},
   "outputs": [],
   "source": [
    "function initialize_model(;\n",
    "    n_birds = 100,\n",
    "    speed = 1.0,\n",
    "    cohere_factor = 0.25,\n",
    "    separation = 4.0,\n",
    "    separate_factor = 0.25,\n",
    "    match_factor = 0.01,\n",
    "    visual_distance = 5.0,\n",
    "    extent = (100, 100),\n",
    "    spacing = visual_distance / 1.5,\n",
    ")\n",
    "    space2d = ContinuousSpace(extent, spacing)\n",
    "    model = ABM(Bird, space2d, scheduler = Schedulers.randomly)\n",
    "    for _ in 1:n_birds\n",
    "        vel = Tuple(rand(model.rng, 2) * 2 .- 1)\n",
    "        add_agent!(\n",
    "            model,\n",
    "            vel,\n",
    "            speed,\n",
    "            cohere_factor,\n",
    "            separation,\n",
    "            separate_factor,\n",
    "            match_factor,\n",
    "            visual_distance,\n",
    "        )\n",
    "    end\n",
    "    return model\n",
    "end"
   ]
  },
  {
   "cell_type": "code",
   "execution_count": null,
   "metadata": {},
   "outputs": [],
   "source": [
    "function agent_step!(bird, model)\n",
    "    # Obtain the ids of neighbors within the bird's visual distance\n",
    "    neighbor_ids = nearby_ids(bird, model, bird.visual_distance)\n",
    "    N = 0\n",
    "    match = separate = cohere = (0.0, 0.0)\n",
    "    # Calculate behaviour properties based on neighbors\n",
    "    for id in neighbor_ids\n",
    "        N += 1\n",
    "        neighbor = model[id].pos\n",
    "        heading = neighbor .- bird.pos\n",
    "\n",
    "        # `cohere` computes the average position of neighboring birds\n",
    "        cohere = cohere .+ heading\n",
    "        if edistance(bird.pos, neighbor, model) < bird.separation\n",
    "            # `separate` repels the bird away from neighboring birds\n",
    "            separate = separate .- heading\n",
    "        end\n",
    "        # `match` computes the average trajectory of neighboring birds\n",
    "        match = match .+ model[id].vel\n",
    "    end\n",
    "    N = max(N, 1)\n",
    "    # Normalise results based on model input and neighbor count\n",
    "    cohere = cohere ./ N .* bird.cohere_factor\n",
    "    separate = separate ./ N .* bird.separate_factor\n",
    "    match = match ./ N .* bird.match_factor\n",
    "    # Compute velocity based on rules defined above\n",
    "    bird.vel = (bird.vel .+ cohere .+ separate .+ match) ./ 2\n",
    "    bird.vel = bird.vel ./ norm(bird.vel)\n",
    "    # Move bird according to new velocity and speed\n",
    "    move_agent!(bird, model, bird.speed)\n",
    "end"
   ]
  },
  {
   "cell_type": "markdown",
   "metadata": {},
   "source": [
    "## Plotting"
   ]
  },
  {
   "cell_type": "code",
   "execution_count": null,
   "metadata": {},
   "outputs": [],
   "source": [
    "using InteractiveDynamics\n",
    "using CairoMakie\n",
    "\n",
    "const bird_polygon = Polygon(Point2f[(-0.5, -0.5), (1, 0), (-0.5, 0.5)])\n",
    "function bird_marker(b::Bird)\n",
    "    φ = atan(b.vel[2], b.vel[1]) #+ π/2 + π\n",
    "    scale(rotate2D(bird_polygon, φ), 2)\n",
    "end\n",
    "\n",
    "model = initialize_model()\n",
    "figure, = abmplot(model; am = bird_marker)\n",
    "figure"
   ]
  },
  {
   "cell_type": "markdown",
   "metadata": {},
   "source": [
    "## Animation"
   ]
  },
  {
   "cell_type": "code",
   "execution_count": null,
   "metadata": {},
   "outputs": [],
   "source": [
    "model = initialize_model()\n",
    "\n",
    "abmvideo(\n",
    "    \"_static/flocking.mp4\", model, agent_step!;\n",
    "    am = bird_marker,\n",
    "    framerate = 20, \n",
    "    frames = 200,\n",
    "    title = \"Flocking\"\n",
    ")"
   ]
  },
  {
   "cell_type": "markdown",
   "metadata": {},
   "source": [
    "<video controls height=\"480\">\n",
    "  <source src=\"_static/flocking.mp4\" type=\"video/mp4\">\n",
    "  Your browser does not support the video tag.\n",
    "</video>"
   ]
  }
 ],
 "metadata": {
  "kernelspec": {
   "display_name": "Julia 1.7.3",
   "language": "julia",
   "name": "julia-1.7"
  },
  "language_info": {
   "file_extension": ".jl",
   "mimetype": "application/julia",
   "name": "julia",
   "version": "1.7.3"
  },
  "orig_nbformat": 4
 },
 "nbformat": 4,
 "nbformat_minor": 2
}
