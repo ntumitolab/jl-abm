{
 "cells": [
  {
   "cell_type": "markdown",
   "metadata": {},
   "source": [
    "# Agent-based Modeling\n",
    "\n",
    "Agent-based Modeling (ABM) is a simulation method where the autonomous agents interacting with the environment (space) and/or each other by a set of rules.\n",
    "\n",
    "The most obvious example of ABM is to simulate actions of non-player characters (NPCs) in computer games.\n",
    "\n",
    "ABM is able to model heterogeneously, i.e. it does not require the environment to be well stirred (as opposed to ODEs), continuous (as opposed to to PDEs), nor need the characteristics of each kind of agents to be identical (as opposed to SSAs).\n",
    "\n",
    "This makes ABM more flexible to model individual behaviors.\n",
    "- traffic jam\n",
    "- infectious disease spread\n",
    "- molecular interactions\n",
    "\n",
    "## Elements of ABM\n",
    "\n",
    "To use `Agents.jl`, we need to define:\n",
    "\n",
    "- The [**space**](https://juliadynamics.github.io/Agents.jl/stable/api/#Available-spaces-1) where the agents live\n",
    "- The [**agents**](https://juliadynamics.github.io/Agents.jl/stable/api/#@agent-macro-1) with self-defined properties.\n",
    "- The **model** to hold the `space`, the `agent`s, and other parameters (called `properties`)\n",
    "- The stepping function `step!()` to tell how the model evolve.\n",
    "\n",
    "## Could I do ABM by myself?\n",
    "\n",
    "Yes, you can define the agents, rules and stepping functions from scratch, but it's more convenient (and perhaps more performant) to use a test package like `Agents.jl`.\n",
    "\n",
    "## Resources\n",
    "\n",
    "- [Documentation](https://juliadynamics.github.io/Agents.jl/stable/) of `Agents.jl`."
   ]
  },
  {
   "cell_type": "markdown",
   "metadata": {},
   "source": [
    "## Schelling's segregation model\n",
    "\n",
    "This example is taken from `Agents.jl` [tutorial](https://juliadynamics.github.io/Agents.jl/stable/examples/schelling/).\n",
    "\n",
    "- Agents : They belong to one of two groups (0 or 1).\n",
    "- Model : Each position of the grid can be occupied by at most one agent.\n",
    "- For each step\n",
    "  - If an agent has at least 3 neighbors belonging to the same group, then it is happy.\n",
    "  - If an agent is unhappy, it keeps moving to new locations until it is happy.\n",
    "\n",
    "To define an agent type, we should make a mutable struct derived from `AbstractAgent` with 2 mandatory fields:\n",
    "- `id::Int` . The identifier number of the agent.\n",
    "- `pos` . For agents on a 2D grid, the position field should be a tuple of 2 integers.\n",
    "\n",
    "On top of that, we could define other properties for the agents.\n",
    "\n",
    "```julia\n",
    "mutable struct SchellingAgent <: AbstractAgent\n",
    "    id::Int             # The identifier number of the agent\n",
    "    pos::NTuple{2, Int} # The x, y location of the agent on a 2D grid\n",
    "    mood::Bool          # whether the agent is happy in its position. (true = happy)\n",
    "    group::Int          # The group of the agent, determines mood as it interacts with neighbors\n",
    "end\n",
    "```"
   ]
  },
  {
   "cell_type": "markdown",
   "metadata": {},
   "source": [
    "### Setup\n",
    "\n",
    "First, we create a 2D space with a Chebyshev metric. This leads to *8 neighboring positions* per position (except at the edges of the grid)."
   ]
  },
  {
   "cell_type": "code",
   "execution_count": null,
   "metadata": {},
   "outputs": [],
   "source": [
    "using Agents\n",
    "\n",
    "# Creating a space\n",
    "space = GridSpace((10, 10); periodic = false)"
   ]
  },
  {
   "cell_type": "markdown",
   "metadata": {},
   "source": [
    "We define the Agent type using the [`@agent`](https://juliadynamics.github.io/Agents.jl/stable/api/#@agent-macro-1) macro. Thus we don't have to setup the mandatory `id` and `pos` fields by ourselves. The relevant fileds are `mood` (whetehr the agent is happy or not) and `group` (which group the agent is on)."
   ]
  },
  {
   "cell_type": "code",
   "execution_count": null,
   "metadata": {},
   "outputs": [],
   "source": [
    "@agent SchellingAgent GridAgent{2} begin\n",
    "    mood::Bool  # True = happy\n",
    "    group::Int  # 0 or 1\n",
    "end"
   ]
  },
  {
   "cell_type": "code",
   "execution_count": null,
   "metadata": {},
   "outputs": [],
   "source": [
    "properties = Dict(:min_to_be_happy => 3) # Parameter for the ABM\n",
    "\n",
    "schelling = ABM(SchellingAgent, space; properties)\n",
    "# schelling2 = ABM(SchellingAgent, space; properties = properties, scheduler = Schedulers.by_property(:group),)  # Custom scheduler"
   ]
  },
  {
   "cell_type": "markdown",
   "metadata": {},
   "source": [
    "We setup the model using an `initialize()` function to make the model easier to reproduce and change its parameter(s)."
   ]
  },
  {
   "cell_type": "code",
   "execution_count": null,
   "metadata": {},
   "outputs": [],
   "source": [
    "using Random # for reproducibility in the RNG\n",
    "\n",
    "function initialize(; numagents = 320, griddims = (20, 20), min_to_be_happy = 3, seed = 125)\n",
    "    space = GridSpace(griddims, periodic = false)\n",
    "    properties = Dict(:min_to_be_happy => min_to_be_happy)\n",
    "    rng = Random.MersenneTwister(seed)\n",
    "    model = ABM(\n",
    "        SchellingAgent, space;\n",
    "        properties, \n",
    "        rng, \n",
    "        scheduler = Schedulers.randomly\n",
    "    )\n",
    "\n",
    "    # populate the model with agents, adding equal amount of the two types of agents\n",
    "    # at random positions in the model\n",
    "    for n in 1:numagents\n",
    "        agent = SchellingAgent(n, (1, 1), false, n < numagents / 2 ? 1 : 2)\n",
    "        add_agent_single!(agent, model)  # We don't need to set the starting position. Agents package chooses randomly for us.\n",
    "    end\n",
    "    return model\n",
    "end"
   ]
  },
  {
   "cell_type": "markdown",
   "metadata": {},
   "source": [
    "Finally, we define a step function `agent_step!()` to determine what happens to each agent. We use some built-in functions: `nearby_agents()` and `move_agent_single!()`."
   ]
  },
  {
   "cell_type": "code",
   "execution_count": null,
   "metadata": {},
   "outputs": [],
   "source": [
    "function agent_step!(agent, model)\n",
    "    minhappy = model.min_to_be_happy\n",
    "    count_neighbors_same_group = 0\n",
    "    # For each neighbor, get group and compare to current agent's group\n",
    "    # and increment count_neighbors_same_group as appropriately.\n",
    "    # Here `nearby_agents` (with default arguments) will provide an iterator\n",
    "    # over the nearby agents one grid point away, which are at most 8.\n",
    "    for neighbor in nearby_agents(agent, model)\n",
    "        if agent.group == neighbor.group\n",
    "            count_neighbors_same_group += 1\n",
    "        end\n",
    "    end\n",
    "    if count_neighbors_same_group ≥ minhappy\n",
    "        # The agent is happy\n",
    "        agent.mood = true\n",
    "    else\n",
    "        # Move the agent to a random position\n",
    "        move_agent_single!(agent, model)  \n",
    "    end\n",
    "    return\n",
    "end"
   ]
  },
  {
   "cell_type": "markdown",
   "metadata": {},
   "source": [
    "### Evolving the model "
   ]
  },
  {
   "cell_type": "code",
   "execution_count": null,
   "metadata": {},
   "outputs": [],
   "source": [
    "model = initialize()"
   ]
  },
  {
   "cell_type": "markdown",
   "metadata": {},
   "source": [
    "The `step!()` function moves the model forward. `run!()` is similar to `step!()` but also collects data along the simulation."
   ]
  },
  {
   "cell_type": "code",
   "execution_count": null,
   "metadata": {},
   "outputs": [],
   "source": [
    "# Move the model by one iteration\n",
    "step!(model, agent_step!)"
   ]
  },
  {
   "cell_type": "code",
   "execution_count": null,
   "metadata": {},
   "outputs": [],
   "source": [
    "# Move the model by 3 iterations\n",
    "step!(model, agent_step!, 3)"
   ]
  },
  {
   "cell_type": "markdown",
   "metadata": {},
   "source": [
    "### Visualization"
   ]
  },
  {
   "cell_type": "code",
   "execution_count": null,
   "metadata": {},
   "outputs": [],
   "source": [
    "using InteractiveDynamics\n",
    "using CairoMakie            # Makie with the Cario backend\n",
    "\n",
    "# Some helper functions to identify agent groups.\n",
    "groupcolor(a) = a.group == 1 ? :blue : :orange\n",
    "groupmarker(a) = a.group == 1 ? :circle : :rect"
   ]
  },
  {
   "cell_type": "code",
   "execution_count": null,
   "metadata": {},
   "outputs": [],
   "source": [
    "model = initialize(griddims = (50, 50), numagents = 1800)\n",
    "figure, _ = abmplot(model; ac = groupcolor, am = groupmarker, as = 10)\n",
    "figure  # The static figure"
   ]
  },
  {
   "cell_type": "code",
   "execution_count": null,
   "metadata": {},
   "outputs": [],
   "source": [
    "model = initialize(griddims = (50, 50), numagents = 1800)\n",
    "\n",
    "abmvideo(\n",
    "    \"schelling.mp4\", model, agent_step!;\n",
    "    ac = groupcolor, am = groupmarker, as = 10,\n",
    "    framerate = 4, frames = 20,\n",
    "    title = \"Schelling's segregation model\"\n",
    ")"
   ]
  },
  {
   "cell_type": "markdown",
   "metadata": {},
   "source": [
    "We use a helper function to embed MP4 video into the output cell."
   ]
  },
  {
   "cell_type": "code",
   "execution_count": null,
   "metadata": {},
   "outputs": [],
   "source": [
    "using Base64\n",
    "\n",
    "function display_mp4(filename)\n",
    "    display(\"text/html\", string(\"\"\"<video autoplay controls><source src=\"data:video/x-m4v;base64,\"\"\",\n",
    "        Base64.base64encode(open(read, filename)),\"\"\"\" type=\"video/mp4\"></video>\"\"\"))\n",
    "end"
   ]
  },
  {
   "cell_type": "code",
   "execution_count": null,
   "metadata": {},
   "outputs": [],
   "source": [
    "display_mp4(\"schelling.mp4\")"
   ]
  },
  {
   "cell_type": "markdown",
   "metadata": {},
   "source": [
    "### Data analysis\n",
    "\n",
    "The `run!()` function rusn simulation and collects data in the `DataFrame` format. The `adata` (aggregated data) keyword extacts information in the DataFrame."
   ]
  },
  {
   "cell_type": "code",
   "execution_count": null,
   "metadata": {},
   "outputs": [],
   "source": [
    "# aggregated data. fields we want to extract\n",
    "adata = [:pos, :mood, :group]\n",
    "\n",
    "model = initialize()\n",
    "data, _ = run!(model, agent_step!, 5; adata)\n",
    "data[1:10, :] # print only the first 10 rows"
   ]
  },
  {
   "cell_type": "code",
   "execution_count": null,
   "metadata": {},
   "outputs": [],
   "source": [
    "# adata also accepts functions\n",
    "x(agent) = agent.pos[1]\n",
    "model = initialize()\n",
    "adata = [x, :mood, :group]\n",
    "data, _ = run!(model, agent_step!, 5; adata)\n",
    "data[1:10, :]"
   ]
  },
  {
   "cell_type": "markdown",
   "metadata": {},
   "source": [
    "### Launching an interactive app\n",
    "\n",
    "See [this section](https://juliadynamics.github.io/Agents.jl/stable/examples/schelling/#Launching-the-interactive-application-1) using `abm_data_exploration()` in the official tutorial."
   ]
  },
  {
   "cell_type": "markdown",
   "metadata": {},
   "source": [
    "### Saving the model state\n",
    "\n",
    "- `AgentsIO.save_checkpoint()`\n",
    "- `AgentsIO.load_checkpoint()`"
   ]
  },
  {
   "cell_type": "code",
   "execution_count": null,
   "metadata": {},
   "outputs": [],
   "source": [
    "model = initialize(numagents = 200, min_to_be_happy = 5, seed = 42)\n",
    "\n",
    "run!(model, agent_step!, 40)\n",
    "\n",
    "figure, _ = abmplot(model; ac = groupcolor, am = groupmarker, as = 10)\n",
    "# State after 40 steps\n",
    "figure"
   ]
  },
  {
   "cell_type": "code",
   "execution_count": null,
   "metadata": {},
   "outputs": [],
   "source": [
    "# Save the model state (to be loaded later)\n",
    "# jld2 as to Julia is \"pickle\" as to Python\n",
    "AgentsIO.save_checkpoint(\"schelling.jld2\", model)"
   ]
  },
  {
   "cell_type": "code",
   "execution_count": null,
   "metadata": {},
   "outputs": [],
   "source": [
    "# Load the model\n",
    "model = AgentsIO.load_checkpoint(\"schelling.jld2\"; scheduler = Schedulers.randomly)"
   ]
  },
  {
   "cell_type": "code",
   "execution_count": null,
   "metadata": {},
   "outputs": [],
   "source": [
    "# Mees with this model by adding more blue agents\n",
    "for i in 1:100\n",
    "    agent = SchellingAgent(nextid(model), (1, 1), false, 1)\n",
    "    add_agent_single!(agent, model)\n",
    "end"
   ]
  },
  {
   "cell_type": "code",
   "execution_count": null,
   "metadata": {},
   "outputs": [],
   "source": [
    "figure, _ = abmplot(model; ac = groupcolor, am = groupmarker, as = 10)\n",
    "figure"
   ]
  },
  {
   "cell_type": "code",
   "execution_count": null,
   "metadata": {},
   "outputs": [],
   "source": [
    "step!(model, agent_step!, 40)\n",
    "\n",
    "figure, _ = abmplot(model; ac = groupcolor, am = groupmarker, as = 10)\n",
    "figure"
   ]
  },
  {
   "cell_type": "markdown",
   "metadata": {},
   "source": [
    "And let's try what happens if we add one more group (green) of agents."
   ]
  },
  {
   "cell_type": "code",
   "execution_count": null,
   "metadata": {},
   "outputs": [],
   "source": [
    "model = AgentsIO.load_checkpoint(\"schelling.jld2\"; scheduler = Schedulers.randomly)\n",
    "\n",
    "for i in 1:100\n",
    "    agent = SchellingAgent(nextid(model), (1, 1), false, 3)\n",
    "    add_agent_single!(agent, model)\n",
    "end\n",
    "\n",
    "groupcolor(a) = (:blue, :orange, :green)[a.group]\n",
    "groupmarker(a) = (:circle, :rect, :cross)[a.group]\n",
    "\n",
    "figure, _ = abmplot(model; ac = groupcolor, am = groupmarker, as = 10)\n",
    "figure"
   ]
  },
  {
   "cell_type": "code",
   "execution_count": null,
   "metadata": {},
   "outputs": [],
   "source": [
    "step!(model, agent_step!, 40)\n",
    "\n",
    "figure, _ = abmplot(model; ac = groupcolor, am = groupmarker, as = 10)\n",
    "figure"
   ]
  },
  {
   "cell_type": "markdown",
   "metadata": {},
   "source": [
    "## The spread of SARS-CoV-2 (Graph model)\n",
    "\n",
    "[Source](https://juliadynamics.github.io/Agents.jl/stable/examples/sir/) from Agents.jl tutorial\n",
    "\n",
    "Here we add one more category of individuals: those who are infected, but do not know it. Transmission rate for infected and diagnosed individuals is lower than infected and undetected. "
   ]
  },
  {
   "cell_type": "code",
   "execution_count": null,
   "metadata": {},
   "outputs": [],
   "source": [
    "using Agents, Random, DataFrames, Graphs\n",
    "using Distributions: Poisson, DiscreteNonParametric\n",
    "using CairoMakie"
   ]
  },
  {
   "cell_type": "markdown",
   "metadata": {},
   "source": [
    "### Define the Model"
   ]
  },
  {
   "cell_type": "code",
   "execution_count": null,
   "metadata": {},
   "outputs": [],
   "source": [
    "mutable struct PoorSoul <: AbstractAgent\n",
    "    id::Int             # Unique agent ID\n",
    "    pos::Int            # Which city\n",
    "    days_infected::Int  # number of days since is infected\n",
    "    status::Symbol      # S/I/R\n",
    "end"
   ]
  },
  {
   "cell_type": "code",
   "execution_count": null,
   "metadata": {},
   "outputs": [],
   "source": [
    "function make_SIRgraph(;\n",
    "    Ns,                 # Populations of the cities\n",
    "    migration_rates,    # Rate of people moving from one city to another\n",
    "    β_und,              # Transmission rate of infected but undetected\n",
    "    β_det,              # Transmission rate of infected and detected\n",
    "    infection_period = 30,\n",
    "    reinfection_probability = 0.05,\n",
    "    detection_time = 14,\n",
    "    death_rate = 0.02,\n",
    "    Is = [zeros(Int, length(Ns) - 1)..., 1],  # An array for initial number of infected but undetected people per city.\n",
    "    seed = 2022,\n",
    ")\n",
    "\n",
    "    rng = MersenneTwister(seed)\n",
    "\n",
    "    @assert length(Ns) == length(Is) == length(β_und) == length(β_det) == size(migration_rates, 1) \"length of Ns, Is, and B, and number of rows/columns in migration_rates should be the same \"\n",
    "    @assert size(migration_rates, 1) == size(migration_rates, 2) \"migration_rates rates should be a square matrix\"\n",
    "\n",
    "    C = length(Ns) # Number of cities\n",
    "\t\n",
    "    # normalize migration_rates\n",
    "    migration_rates_sum = sum(migration_rates, dims = 2)\n",
    "    for c in 1:C\n",
    "        migration_rates[c, :] ./= migration_rates_sum[c]\n",
    "    end\n",
    "\n",
    "    # properties as a NamedTuple\n",
    "    properties = (;\n",
    "        Ns,\n",
    "        Is,\n",
    "        β_und,\n",
    "        β_det,\n",
    "        migration_rates,\n",
    "        infection_period,\n",
    "        reinfection_probability,\n",
    "        detection_time,\n",
    "        C,\n",
    "        death_rate\n",
    "    )\n",
    "\t\n",
    "\t\n",
    "    space = GraphSpace(complete_digraph(C))\n",
    "    model = ABM(PoorSoul, space; properties, rng)\n",
    "\n",
    "    # Add initial susceptible individuals\n",
    "    for city in 1:C, n in 1:Ns[city]\n",
    "        ind = add_agent!(city, model, 0, :S)\n",
    "    end\n",
    "    # add infected individuals\n",
    "    for city in 1:C\n",
    "        inds = ids_in_position(city, model)\n",
    "        for n in 1:Is[city]\n",
    "            agent = model[inds[n]]\n",
    "            agent.status = :I # Infected\n",
    "            agent.days_infected = 1\n",
    "        end\n",
    "    end\n",
    "    return model\n",
    "end"
   ]
  },
  {
   "cell_type": "code",
   "execution_count": null,
   "metadata": {},
   "outputs": [],
   "source": [
    "using LinearAlgebra: diagind\n",
    "\n",
    "function make_SIRgraphParams(;\n",
    "\tC,\n",
    "    max_travel_rate,\n",
    "    infection_period = 30,\n",
    "    reinfection_probability = 0.05,\n",
    "    detection_time = 14,\n",
    "    death_rate = 0.02,\n",
    "    Is = [zeros(Int, C - 1)..., 1],\n",
    "    seed = 2022,\n",
    ")\n",
    "\t# For reproducibility\n",
    "\tRandom.seed!(seed)\n",
    "\t\n",
    "\t# City population\n",
    "    Ns = rand(50:5000, C)\n",
    "\t\n",
    "\t# Undetected transmission\n",
    "    β_und = rand(0.3:0.02:0.6, C)\n",
    "\t\n",
    "\t# Detected transmission (set to 10% of undetected)\n",
    "    β_det = β_und ./ 10\n",
    "\t\n",
    "\t# Migrate from city i to city j\n",
    "\t# People in small cities tend to migrate to bigger cities\n",
    "\tmigration_rates = zeros(C, C)\n",
    "    for c in 1:C, c2 in 1:C\n",
    "        migration_rates[c, c2] = (Ns[c] + Ns[c2]) / Ns[c]\n",
    "    end\n",
    "\t\n",
    "\t# Normalize migration rates\n",
    "\tmaxM = maximum(migration_rates)\n",
    "    migration_rates = (migration_rates .* max_travel_rate) ./ maxM\n",
    "\t\n",
    "\t# Migrate to self = 1\n",
    "    migration_rates[diagind(migration_rates)] .= 1.0\n",
    "\t\n",
    "\treturn (; Ns,\n",
    "        β_und,\n",
    "        β_det,\n",
    "        migration_rates,\n",
    "        infection_period,\n",
    "        reinfection_probability,\n",
    "        detection_time,\n",
    "        death_rate,\n",
    "        Is)\n",
    "end"
   ]
  },
  {
   "cell_type": "code",
   "execution_count": null,
   "metadata": {},
   "outputs": [],
   "source": [
    "SIRgraphparams = make_SIRgraphParams(C = 8, max_travel_rate = 0.01)"
   ]
  },
  {
   "cell_type": "code",
   "execution_count": null,
   "metadata": {},
   "outputs": [],
   "source": [
    "# Stepping function in the SIR Agent-based model\n",
    "function migrate!(agent, model)\n",
    "    pid = agent.pos\n",
    "    d = DiscreteNonParametric(1:(model.C), model.migration_rates[pid, :])\n",
    "    m = rand(model.rng, d)\n",
    "    if m ≠ pid\n",
    "        move_agent!(agent, m, model)\n",
    "    end\n",
    "end\n",
    "\n",
    "function transmit!(agent, model)\n",
    "    agent.status == :S && return\n",
    "    rate = if agent.days_infected < model.detection_time\n",
    "        model.β_und[agent.pos]\n",
    "    else\n",
    "        model.β_det[agent.pos]\n",
    "    end\n",
    "\n",
    "    d = Poisson(rate)\n",
    "    n = rand(model.rng, d)\n",
    "    n == 0 && return\n",
    "\n",
    "    for contactID in ids_in_position(agent, model)\n",
    "        contact = model[contactID]\n",
    "        if contact.status == :S ||\n",
    "           (contact.status == :R && rand(model.rng) ≤ model.reinfection_probability)\n",
    "            contact.status = :I\n",
    "            n -= 1\n",
    "            n == 0 && return\n",
    "        end\n",
    "    end\n",
    "end\n",
    "\n",
    "# Count infected days of the agent\n",
    "update!(agent, model) = agent.status == :I && (agent.days_infected += 1)\n",
    "\n",
    "function recover_or_die!(agent, model)\n",
    "    if agent.days_infected ≥ model.infection_period\n",
    "        if rand(model.rng) ≤ model.death_rate\n",
    "            kill_agent!(agent, model)\n",
    "        else\n",
    "            agent.status = :R\n",
    "            agent.days_infected = 0\n",
    "        end\n",
    "    end\n",
    "end\n",
    "\n",
    "function agent_step!(agent::PoorSoul, model)\n",
    "    migrate!(agent, model)\n",
    "    transmit!(agent, model)\n",
    "    update!(agent, model)\n",
    "    recover_or_die!(agent, model)\n",
    "end"
   ]
  },
  {
   "cell_type": "code",
   "execution_count": null,
   "metadata": {},
   "outputs": [],
   "source": [
    "model = make_SIRgraph(; SIRgraphparams...)"
   ]
  },
  {
   "cell_type": "markdown",
   "metadata": {},
   "source": [
    "### Animation\n",
    "\n",
    "At the moment [abmplot](https://juliadynamics.github.io/Agents.jl/stable/agents_visualizations/#InteractiveDynamics.abmplot) does not plot `GraphSpace`s, but we can still utilize the [ABMObservable](https://juliadynamics.github.io/Agents.jl/stable/agents_visualizations/#InteractiveDynamics.ABMObservable). We do not need to collect data here, only the current status of the model will be used in visualization."
   ]
  },
  {
   "cell_type": "code",
   "execution_count": null,
   "metadata": {},
   "outputs": [],
   "source": [
    "using InteractiveDynamics\n",
    "using CairoMakie\n",
    "\n",
    "abmobs = ABMObservable(model; agent_step!)  # Observable: The quantity that updates dynamically and interactively"
   ]
  },
  {
   "cell_type": "code",
   "execution_count": null,
   "metadata": {},
   "outputs": [],
   "source": [
    "infected_fraction(m, x) = count(m[id].status == :I for id in x) / length(x)\n",
    "infected_fractions(m) = [infected_fraction(m, ids_in_position(p, m)) for p in positions(m)]\n",
    "\n",
    "# Connect (lift) model obervable to fracs, color, and the title.\n",
    "fracs = lift(infected_fractions, abmobs.model)\n",
    "color = lift(fs -> [cgrad(:inferno)[f] for f in fs], fracs)\n",
    "title = lift(\n",
    "    (s, m) -> \"step = $(s), infected = $(round(Int, 100infected_fraction(m, allids(m))))%\",\n",
    "    abmobs.s, abmobs.model\n",
    ")"
   ]
  },
  {
   "cell_type": "code",
   "execution_count": null,
   "metadata": {},
   "outputs": [],
   "source": [
    "fig = Figure(resolution = (600, 400))\n",
    "ax = Axis(fig[1, 1]; title, xlabel = \"City\", ylabel = \"Population\")\n",
    "barplot!(ax, model.Ns; strokecolor = :black, strokewidth = 1, color)\n",
    "fig"
   ]
  },
  {
   "cell_type": "code",
   "execution_count": null,
   "metadata": {},
   "outputs": [],
   "source": [
    "record(fig, \"covid_evolution.mp4\"; framerate = 5) do io\n",
    "    for j in 1:30\n",
    "        recordframe!(io)\n",
    "        Agents.step!(abmobs, 1)\n",
    "    end\n",
    "    recordframe!(io)\n",
    "end\n",
    "\n",
    "display_mp4(\"covid_evolution.mp4\")"
   ]
  },
  {
   "cell_type": "markdown",
   "metadata": {},
   "source": [
    "### Data Collection"
   ]
  },
  {
   "cell_type": "code",
   "execution_count": null,
   "metadata": {},
   "outputs": [],
   "source": [
    "# Helper functions\n",
    "infected(x) = count(i == :I for i in x)\n",
    "recovered(x) = count(i == :R for i in x)"
   ]
  },
  {
   "cell_type": "code",
   "execution_count": null,
   "metadata": {},
   "outputs": [],
   "source": [
    "model = make_SIRgraph(; SIRgraphparams...)\n",
    "\n",
    "to_collect = [(:status, f) for f in (infected, recovered, length)]\n",
    "data, _ = run!(model, agent_step!, 100; adata = to_collect)\n",
    "data[1:10, :]"
   ]
  },
  {
   "cell_type": "code",
   "execution_count": null,
   "metadata": {},
   "outputs": [],
   "source": [
    "N = sum(model.Ns) # Total initial population\n",
    "x = data.step\n",
    "fig = Figure(resolution = (600, 400))\n",
    "ax = fig[1, 1] = Axis(fig, xlabel = \"steps\", ylabel = \"log10(count)\")\n",
    "li = lines!(ax, x, log10.(data[:, aggname(:status, infected)]), color = :blue)\n",
    "lr = lines!(ax, x, log10.(data[:, aggname(:status, recovered)]), color = :red)\n",
    "dead = log10.(N .- data[:, aggname(:status, length)])\n",
    "ld = lines!(ax, x, dead, color = :green)\n",
    "fig[1, 2] = Legend(fig, [li, lr, ld], [\"infected\", \"recovered\", \"dead\"])\n",
    "fig"
   ]
  },
  {
   "cell_type": "markdown",
   "metadata": {},
   "source": [
    "The exponential growth is clearly visible since the logarithm of the number of infected increases linearly, until everyone is infected."
   ]
  },
  {
   "cell_type": "markdown",
   "metadata": {},
   "source": [
    "## Flocking of birds\n",
    "\n",
    "The flock model illustrates how flocking behavior can emerge when each bird follows three simple rules:\n",
    "\n",
    "- maintain a minimum distance from other birds to avoid collision\n",
    "- fly towards the average position of neighbors\n",
    "- fly in the average direction of neighbors"
   ]
  },
  {
   "cell_type": "markdown",
   "metadata": {},
   "source": [
    "### Model setup"
   ]
  },
  {
   "cell_type": "code",
   "execution_count": null,
   "metadata": {},
   "outputs": [],
   "source": [
    "using Agents, LinearAlgebra\n",
    "\n",
    "mutable struct Bird <: AbstractAgent\n",
    "    id::Int\n",
    "    pos::NTuple{2,Float64}\n",
    "    vel::NTuple{2,Float64}   # Moving in ContinuousSpace\n",
    "    speed::Float64           # How far the bird travels\n",
    "    cohere_factor::Float64   # the importance of maintaining the average position of neighbors\n",
    "    separation::Float64      # the minimum distance a bird must maintain from its neighbors\n",
    "    separate_factor::Float64 # the importance of maintaining the minimum distance from neighboring birds\n",
    "    match_factor::Float64    # the importance of matching the average trajectory of neighboring birds\n",
    "    visual_distance::Float64 # the distance a bird can see and defines a radius of neighboring birds\n",
    "end"
   ]
  },
  {
   "cell_type": "code",
   "execution_count": null,
   "metadata": {},
   "outputs": [],
   "source": [
    "function initialize_model(;\n",
    "    n_birds = 100,\n",
    "    speed = 1.0,\n",
    "    cohere_factor = 0.25,\n",
    "    separation = 4.0,\n",
    "    separate_factor = 0.25,\n",
    "    match_factor = 0.01,\n",
    "    visual_distance = 5.0,\n",
    "    extent = (100, 100),\n",
    "    spacing = visual_distance / 1.5,\n",
    ")\n",
    "    space2d = ContinuousSpace(extent, spacing)\n",
    "    model = ABM(Bird, space2d, scheduler = Schedulers.randomly)\n",
    "    for _ in 1:n_birds\n",
    "        vel = Tuple(rand(model.rng, 2) * 2 .- 1)\n",
    "        add_agent!(\n",
    "            model,\n",
    "            vel,\n",
    "            speed,\n",
    "            cohere_factor,\n",
    "            separation,\n",
    "            separate_factor,\n",
    "            match_factor,\n",
    "            visual_distance,\n",
    "        )\n",
    "    end\n",
    "    return model\n",
    "end"
   ]
  },
  {
   "cell_type": "code",
   "execution_count": null,
   "metadata": {},
   "outputs": [],
   "source": [
    "function agent_step!(bird, model)\n",
    "    # Obtain the ids of neighbors within the bird's visual distance\n",
    "    neighbor_ids = nearby_ids(bird, model, bird.visual_distance)\n",
    "    N = 0\n",
    "    match = separate = cohere = (0.0, 0.0)\n",
    "    # Calculate behaviour properties based on neighbors\n",
    "    for id in neighbor_ids\n",
    "        N += 1\n",
    "        neighbor = model[id].pos\n",
    "        heading = neighbor .- bird.pos\n",
    "\n",
    "        # `cohere` computes the average position of neighboring birds\n",
    "        cohere = cohere .+ heading\n",
    "        if edistance(bird.pos, neighbor, model) < bird.separation\n",
    "            # `separate` repels the bird away from neighboring birds\n",
    "            separate = separate .- heading\n",
    "        end\n",
    "        # `match` computes the average trajectory of neighboring birds\n",
    "        match = match .+ model[id].vel\n",
    "    end\n",
    "    N = max(N, 1)\n",
    "    # Normalise results based on model input and neighbor count\n",
    "    cohere = cohere ./ N .* bird.cohere_factor\n",
    "    separate = separate ./ N .* bird.separate_factor\n",
    "    match = match ./ N .* bird.match_factor\n",
    "    # Compute velocity based on rules defined above\n",
    "    bird.vel = (bird.vel .+ cohere .+ separate .+ match) ./ 2\n",
    "    bird.vel = bird.vel ./ norm(bird.vel)\n",
    "    # Move bird according to new velocity and speed\n",
    "    move_agent!(bird, model, bird.speed)\n",
    "end"
   ]
  },
  {
   "cell_type": "markdown",
   "metadata": {},
   "source": [
    "### Plotting"
   ]
  },
  {
   "cell_type": "code",
   "execution_count": null,
   "metadata": {},
   "outputs": [],
   "source": [
    "using InteractiveDynamics\n",
    "using CairoMakie\n",
    "\n",
    "const bird_polygon = Polygon(Point2f[(-0.5, -0.5), (1, 0), (-0.5, 0.5)])\n",
    "function bird_marker(b::Bird)\n",
    "    φ = atan(b.vel[2], b.vel[1]) #+ π/2 + π\n",
    "    scale(rotate2D(bird_polygon, φ), 2)\n",
    "end\n",
    "\n",
    "model = initialize_model()\n",
    "figure, = abmplot(model; am = bird_marker)\n",
    "figure"
   ]
  },
  {
   "cell_type": "markdown",
   "metadata": {},
   "source": [
    "### Animation"
   ]
  },
  {
   "cell_type": "code",
   "execution_count": null,
   "metadata": {},
   "outputs": [],
   "source": [
    "model = initialize_model()\n",
    "\n",
    "abmvideo(\n",
    "    \"flocking.mp4\", model, agent_step!;\n",
    "    am = bird_marker,\n",
    "    framerate = 20, \n",
    "    frames = 200,\n",
    "    title = \"Flocking\"\n",
    ")\n",
    "\n",
    "display_mp4(\"flocking.mp4\")"
   ]
  },
  {
   "cell_type": "markdown",
   "metadata": {},
   "source": [
    "## COVID-19 social distancing model\n",
    "\n",
    "Source: [Agents.jl model zoo](https://juliadynamics.github.io/AgentsExampleZoo.jl/dev/examples/social_distancing/)"
   ]
  },
  {
   "cell_type": "code",
   "execution_count": null,
   "metadata": {},
   "outputs": [],
   "source": [
    "using Agents\n",
    "using Random"
   ]
  },
  {
   "cell_type": "markdown",
   "metadata": {},
   "source": [
    "Let us first create a simple model where balls move around in a continuous space. We need to create agents that comply with `ContinuousSpace`, i.e. they have a pos and vel fields, both of which are tuples of float numbers."
   ]
  },
  {
   "cell_type": "code",
   "execution_count": null,
   "metadata": {},
   "outputs": [],
   "source": [
    "mutable struct Agent <: AbstractAgent\n",
    "    id::Int                 # Mandatory Agent identifier\n",
    "    pos::NTuple{2,Float64}  # Position, required for agents in the ContinuousSpace\n",
    "    vel::NTuple{2,Float64}  # Moving speeds\n",
    "    mass::Float64           # Can move or not\n",
    "end"
   ]
  },
  {
   "cell_type": "code",
   "execution_count": null,
   "metadata": {},
   "outputs": [],
   "source": [
    "function ball_model(; speed = 0.002, seed = 42)\n",
    "    space2d = ContinuousSpace((1, 1), 0.02)\n",
    "    model = ABM(Agent, space2d, properties = Dict(:dt => 1.0), rng = MersenneTwister(seed))\n",
    "\n",
    "    # Add agents to the model\n",
    "    for ind in 1:500\n",
    "        pos = Tuple(rand(model.rng, 2))\n",
    "        vel = sincos(2π * rand(model.rng)) .* speed\n",
    "        mass = 1.0\n",
    "        add_agent!(pos, model, vel, mass)\n",
    "    end\n",
    "    return model\n",
    "end\n",
    "\n",
    "model = ball_model()"
   ]
  },
  {
   "cell_type": "code",
   "execution_count": null,
   "metadata": {},
   "outputs": [],
   "source": [
    "# Agents.move_agent!()\n",
    "agent_step!(agent, model) = move_agent!(agent, model, model.dt)"
   ]
  },
  {
   "cell_type": "code",
   "execution_count": null,
   "metadata": {},
   "outputs": [],
   "source": [
    "using InteractiveDynamics\n",
    "using CairoMakie\n",
    "\n",
    "abmvideo(\n",
    "    \"socialdist1.mp4\",\n",
    "    model,\n",
    "    agent_step!;\n",
    "    title = \"Ball Model\",\n",
    "    frames = 50,\n",
    "    spf = 2,\n",
    "    framerate = 25,\n",
    ")\n",
    "\n",
    "display_mp4(\"socialdist1.mp4\")"
   ]
  },
  {
   "cell_type": "markdown",
   "metadata": {},
   "source": [
    "As you can see the agents move in a straight line in a periodic space without interactions. Let's change that."
   ]
  },
  {
   "cell_type": "markdown",
   "metadata": {},
   "source": [
    "### Billiard-like interaction\n",
    "\n",
    "Using the continuous space API:\n",
    "\n",
    "- `interacting_pairs()`\n",
    "- `elastic_collision!()`\n",
    "\n",
    "And we redefine the stepping function:"
   ]
  },
  {
   "cell_type": "code",
   "execution_count": null,
   "metadata": {},
   "outputs": [],
   "source": [
    "function model_step!(model)\n",
    "    for (a1, a2) in interacting_pairs(model, 0.012, :nearest)\n",
    "        elastic_collision!(a1, a2, :mass)\n",
    "    end\n",
    "end"
   ]
  },
  {
   "cell_type": "code",
   "execution_count": null,
   "metadata": {},
   "outputs": [],
   "source": [
    "model2 = ball_model()\n",
    "\n",
    "abmvideo(\n",
    "    \"socialdist2.mp4\",\n",
    "    model2,\n",
    "    agent_step!,\n",
    "    model_step!;\n",
    "    title = \"Billiard-like\",\n",
    "    frames = 50,\n",
    "    spf = 2,\n",
    "    framerate = 25,\n",
    ")\n",
    "\n",
    "display_mp4(\"socialdist2.mp4\")"
   ]
  },
  {
   "cell_type": "markdown",
   "metadata": {},
   "source": [
    "### Immovable agents\n",
    "\n",
    "For the following social distancing example, it will become crucial that some agents don't move, and can't be moved (i.e. they stay \"isolated\"). This is very easy to do with the elastic_collision! function, we only have to make some agents have infinite mass."
   ]
  },
  {
   "cell_type": "code",
   "execution_count": null,
   "metadata": {},
   "outputs": [],
   "source": [
    "model3 = ball_model()\n",
    "\n",
    "for id in 1:400\n",
    "    agent = model3[id]\n",
    "    agent.mass = Inf\n",
    "    agent.vel = (0.0, 0.0)\n",
    "end\n",
    "\n",
    "abmvideo(\n",
    "    \"socialdist3.mp4\",\n",
    "    model3,\n",
    "    agent_step!,\n",
    "    model_step!;\n",
    "    title = \"Billiard-like with stationary agents\",\n",
    "    frames = 50,\n",
    "    spf = 2,\n",
    "    framerate = 25,\n",
    ")\n",
    "\n",
    "display_mp4(\"socialdist3.mp4\")"
   ]
  },
  {
   "cell_type": "markdown",
   "metadata": {},
   "source": [
    "### Modeling Virus spread by the SIR model\n",
    "\n",
    "The agents can be infected with a disease and transfer the disease to other healthy agents around them."
   ]
  },
  {
   "cell_type": "code",
   "execution_count": null,
   "id": "7e24322f-8169-4a39-8dab-35f50c7cb550",
   "metadata": {
    "execution": {
     "iopub.execute_input": "2022-02-14T20:07:36.342000Z",
     "iopub.status.busy": "2022-02-14T20:07:36.342000Z",
     "iopub.status.idle": "2022-02-14T20:07:36.459000Z",
     "shell.execute_reply": "2022-02-14T20:07:36.459000Z"
    }
   },
   "outputs": [],
   "source": [
    "mutable struct PoorSoul <: AbstractAgent\n",
    "    id::Int\n",
    "    pos::NTuple{2,Float64}\n",
    "    vel::NTuple{2,Float64}\n",
    "    mass::Float64\n",
    "    days_infected::Int  # number of days since is infected\n",
    "    status::Symbol  # :S, :I or :R\n",
    "    β::Float64\n",
    "end"
   ]
  },
  {
   "cell_type": "markdown",
   "metadata": {},
   "source": [
    " β is the transmission probability, which we choose to make an agent parameter instead of a model parameter. It reflects the level of hygiene of an individual. \n",
    "\n",
    " And the model creation function becomes:"
   ]
  },
  {
   "cell_type": "code",
   "execution_count": null,
   "metadata": {},
   "outputs": [],
   "source": [
    "const steps_per_day = 24 # One tick per hour\n",
    "\n",
    "function sir_initiation(;\n",
    "    infection_period = 30 * steps_per_day,\n",
    "    detection_time = 14 * steps_per_day,\n",
    "    reinfection_probability = 0.05,\n",
    "    isolated = 0.0, # in percentage\n",
    "    interaction_radius = 0.012,\n",
    "    dt = 1.0,\n",
    "    speed = 0.002,\n",
    "    death_rate = 0.044,\n",
    "    N = 1000,\n",
    "    initial_infected = 5,\n",
    "    seed = 42,\n",
    "    βmin = 0.4,\n",
    "    βmax = 0.8,\n",
    ")\n",
    "\n",
    "    properties = (;\n",
    "        infection_period,\n",
    "        reinfection_probability,\n",
    "        detection_time,\n",
    "        death_rate,\n",
    "        interaction_radius,\n",
    "        dt,\n",
    "    )\n",
    "    space = ContinuousSpace((1,1), 0.02)\n",
    "    model = ABM(PoorSoul, space, properties = Dict(pairs(properties)), rng = MersenneTwister(seed))\n",
    "\n",
    "    # Add initial individual agents\n",
    "    for ind in 1:N\n",
    "        pos = Tuple(rand(model.rng, 2))\n",
    "        status = ind ≤ N - initial_infected ? :S : :I\n",
    "        isisolated = ind ≤ isolated * N\n",
    "        mass = isisolated ? Inf : 1.0\n",
    "        vel = isisolated ? (0.0, 0.0) : sincos(2π * rand(model.rng)) .* speed\n",
    "\n",
    "        β = (βmax - βmin) * rand(model.rng) + βmin\n",
    "        add_agent!(pos, model, vel, mass, 0, status, β)\n",
    "    end\n",
    "\n",
    "    return model\n",
    "end"
   ]
  },
  {
   "cell_type": "markdown",
   "metadata": {},
   "source": [
    "To visualize this model, we will use black color for the susceptible, red for the infected infected and green for the recovered."
   ]
  },
  {
   "cell_type": "code",
   "execution_count": null,
   "metadata": {},
   "outputs": [],
   "source": [
    "sir_model = sir_initiation()\n",
    "\n",
    "sir_colors(a) = a.status == :S ? \"#2b2b33\" : a.status == :I ? \"#bf2642\" : \"#338c54\"\n",
    "\n",
    "fig, abmstepper = abmplot(sir_model; ac = sir_colors)\n",
    "fig # display figure"
   ]
  },
  {
   "cell_type": "markdown",
   "metadata": {},
   "source": [
    "Modify the `model_step!` function to simulate transmission."
   ]
  },
  {
   "cell_type": "code",
   "execution_count": null,
   "metadata": {},
   "outputs": [],
   "source": [
    "function transmit!(a1, a2, rp)\n",
    "\n",
    "    # for transmission, only 1 can have the disease (otherwise nothing happens)\n",
    "    count(a.status == :I for a in (a1, a2)) ≠ 1 && return\n",
    "    infected, healthy = a1.status == :I ? (a1, a2) : (a2, a1)\n",
    "\n",
    "    # Lucky and not infected\n",
    "    rand(model.rng) > infected.β && return\n",
    "\n",
    "    # Risk of reinfection\n",
    "   if healthy.status == :R\n",
    "        rand(model.rng) > rp && return\n",
    "    end\n",
    "\n",
    "    # You got virus\n",
    "    healthy.status = :I\n",
    "end\n",
    "\n",
    "function sir_model_step!(model)\n",
    "    r = model.interaction_radius\n",
    "    for (a1, a2) in interacting_pairs(model, r, :all)\n",
    "        transmit!(a1, a2, model.reinfection_probability)\n",
    "        elastic_collision!(a1, a2, :mass)\n",
    "    end\n",
    "end\n",
    "\n",
    "# Agent-specific functions\n",
    "function update!(agent) \n",
    "    if agent.status == :I\n",
    "        agent.days_infected += 1\n",
    "    end\n",
    "end\n",
    "\n",
    "function recover_or_die!(agent, model)\n",
    "    if agent.days_infected ≥ model.infection_period\n",
    "        if rand(model.rng) ≤ model.death_rate\n",
    "            kill_agent!(agent, model)\n",
    "        else\n",
    "            agent.status = :R\n",
    "            agent.days_infected = 0\n",
    "        end\n",
    "    end\n",
    "end\n",
    "\n",
    "function sir_agent_step!(agent, model)\n",
    "    move_agent!(agent, model, model.dt)\n",
    "    update!(agent)\n",
    "    recover_or_die!(agent, model)\n",
    "end"
   ]
  },
  {
   "cell_type": "markdown",
   "metadata": {},
   "source": [
    "Running with default parameters."
   ]
  },
  {
   "cell_type": "code",
   "execution_count": null,
   "metadata": {},
   "outputs": [],
   "source": [
    "sir_model = sir_initiation()\n",
    "\n",
    "abmvideo(\n",
    "    \"socialdist4.mp4\",\n",
    "    sir_model,\n",
    "    sir_agent_step!,\n",
    "    sir_model_step!;\n",
    "    title = \"SIR model\",\n",
    "    frames = 200,\n",
    "    ac = sir_colors,\n",
    "    as = 10,\n",
    "    spf = 2,\n",
    "    framerate = 20,\n",
    ")\n",
    "\n",
    "display_mp4(\"socialdist4.mp4\")"
   ]
  },
  {
   "cell_type": "markdown",
   "metadata": {},
   "source": [
    "### Analyzing exponential spread"
   ]
  },
  {
   "cell_type": "code",
   "execution_count": null,
   "metadata": {},
   "outputs": [],
   "source": [
    "infected(x) = count(i == :I for i in x)\n",
    "recovered(x) = count(i == :R for i in x)\n",
    "# Aggregated data for number of infected and recovered indivisuals\n",
    "adata = [(:status, infected), (:status, recovered)]"
   ]
  },
  {
   "cell_type": "code",
   "execution_count": null,
   "metadata": {},
   "outputs": [],
   "source": [
    "# Try different parameters\n",
    "r1, r2 = 0.02, 0.05\n",
    "β1, β2 = 0.5, 0.1\n",
    "sir_model1 = sir_initiation(reinfection_probability = r1, βmax = β1)\n",
    "sir_model2 = sir_initiation(reinfection_probability = r2, βmax = β1)\n",
    "sir_model3 = sir_initiation(reinfection_probability = r1, βmax = β2)\n",
    "\n",
    "data1, _ = run!(sir_model1, sir_agent_step!, sir_model_step!, 3000; adata)\n",
    "data2, _ = run!(sir_model2, sir_agent_step!, sir_model_step!, 3000; adata)\n",
    "data3, _ = run!(sir_model3, sir_agent_step!, sir_model_step!, 3000; adata)\n",
    "\n",
    "data1[(end-10):end, :]"
   ]
  },
  {
   "cell_type": "code",
   "execution_count": null,
   "metadata": {},
   "outputs": [],
   "source": [
    "using CairoMakie\n",
    "\n",
    "figure = Figure()\n",
    "ax = figure[1, 1] = Axis(figure; ylabel = \"Infected\", xlabel=\"Steps\")\n",
    "l1 = lines!(ax, data1[:, dataname((:status, infected))], color = :orange)\n",
    "l2 = lines!(ax, data2[:, dataname((:status, infected))], color = :blue)\n",
    "l3 = lines!(ax, data3[:, dataname((:status, infected))], color = :green)\n",
    "figure[1, 2] = Legend(figure, [l1, l2, l3], [\"r=$r1, beta=$β1\", \"r=$r2, beta=$β1\", \"r=$r1, beta=$β2\"])\n",
    "\n",
    "figure"
   ]
  },
  {
   "cell_type": "markdown",
   "metadata": {},
   "source": [
    "### Social distancing\n",
    "\n",
    "The best way to model social distancing is to make some agents simply not move (which feels like it approximates reality better)."
   ]
  },
  {
   "cell_type": "code",
   "execution_count": null,
   "metadata": {},
   "outputs": [],
   "source": [
    "sir_model = sir_initiation(isolated = 0.85)\n",
    "abmvideo(\n",
    "    \"socialdist5.mp4\",\n",
    "    sir_model,\n",
    "    sir_agent_step!,\n",
    "    sir_model_step!;\n",
    "    title = \"Social Distancing\",\n",
    "    frames = 200,\n",
    "    spf = 2,\n",
    "    ac = sir_colors,\n",
    "    framerate = 20,\n",
    ")\n",
    "\n",
    "display_mp4(\"socialdist5.mp4\")"
   ]
  },
  {
   "cell_type": "code",
   "execution_count": null,
   "metadata": {},
   "outputs": [],
   "source": [
    "r4 = 0.02\n",
    "sir_model4 = sir_initiation(reinfection_probability = r4, βmax = β1, isolated = 0.85)\n",
    "\n",
    "data4, _ = run!(sir_model4, sir_agent_step!, sir_model_step!, 3000; adata)\n",
    "\n",
    "l4 = lines!(ax, data4[:, dataname((:status, infected))], color = :red)\n",
    "figure[1, 2] = Legend(\n",
    "    figure,\n",
    "    [l1, l2, l3, l4],\n",
    "    [\"r=$r1, beta=$β1\", \"r=$r2, beta=$β1\", \"r=$r1, beta=$β2\", \"r=$r4, social distancing\"],\n",
    ")\n",
    "figure"
   ]
  },
  {
   "cell_type": "markdown",
   "metadata": {},
   "source": [
    "## Zombie Outbreak\n",
    "\n",
    "An agents on OpenStreetMap space example\n",
    "\n",
    "From: https://juliadynamics.github.io/Agents.jl/stable/examples/zombies/"
   ]
  },
  {
   "cell_type": "code",
   "execution_count": null,
   "metadata": {},
   "outputs": [],
   "source": [
    "using Agents\n",
    "using Random"
   ]
  },
  {
   "cell_type": "code",
   "execution_count": null,
   "metadata": {},
   "outputs": [],
   "source": [
    "@agent Zombie OSMAgent begin\n",
    "    infected::Bool\n",
    "    speed::Float64\n",
    "end"
   ]
  },
  {
   "cell_type": "markdown",
   "metadata": {},
   "source": [
    "Equivalent to\n",
    "\n",
    "```julia\n",
    "mutable struct Zombie <: AbstractAgent\n",
    "    id::Int\n",
    "    pos::Tuple{Int, Int, Float64}\n",
    "    infected::Bool\n",
    "    speed::Float64\n",
    "end\n",
    "```"
   ]
  },
  {
   "cell_type": "code",
   "execution_count": null,
   "metadata": {},
   "outputs": [],
   "source": [
    "function initialise(; seed = 1234)\n",
    "    map_path = OSM.test_map()\n",
    "    properties = Dict(:dt => 1 / 60)\n",
    "    model = ABM(\n",
    "        Zombie,\n",
    "        OpenStreetMapSpace(map_path);\n",
    "        properties = properties,\n",
    "        rng = Random.MersenneTwister(seed)\n",
    "    )\n",
    "\n",
    "    for id in 1:100\n",
    "        start = random_position(model) # At an intersection\n",
    "        speed = rand(model.rng) * 5.0 + 2.0 # Random speed from 2-7kmph\n",
    "        human = Zombie(id, start, false, speed)\n",
    "        add_agent_pos!(human, model)\n",
    "        OSM.plan_random_route!(human, model; limit = 50) # try 50 times to find a random route\n",
    "    end\n",
    "    # We'll add patient zero at a specific (longitude, latitude)\n",
    "    start = OSM.nearest_road((9.9351811, 51.5328328), model)\n",
    "    finish = OSM.nearest_node((9.945125635913511, 51.530876112711745), model)\n",
    "\n",
    "    speed = rand(model.rng) * 5.0 + 2.0 # Random speed from 2-7kmph\n",
    "    zombie = add_agent!(start, model, true, speed)\n",
    "    plan_route!(zombie, finish, model)\n",
    "    # This function call creates & adds an agent, see `add_agent!`\n",
    "    return model\n",
    "end"
   ]
  },
  {
   "cell_type": "code",
   "execution_count": null,
   "metadata": {},
   "outputs": [],
   "source": [
    "function agent_step!(agent, model)\n",
    "    # Each agent will progress along their route\n",
    "    # Keep track of distance left to move this step, in case the agent reaches its\n",
    "    # destination early\n",
    "    distance_left = move_along_route!(agent, model, agent.speed * model.dt)\n",
    "\n",
    "    if is_stationary(agent, model) && rand(model.rng) < 0.1\n",
    "        # When stationary, give the agent a 10% chance of going somewhere else\n",
    "        OSM.plan_random_route!(agent, model; limit = 50)\n",
    "        # Start on new route, moving the remaining distance\n",
    "        move_along_route!(agent, model, distance_left)\n",
    "    end\n",
    "\n",
    "    if agent.infected\n",
    "        # Agents will be infected if they get too close (within 10m) to a zombie.\n",
    "        map(i -> model[i].infected = true, nearby_ids(agent, model, 0.01))\n",
    "    end\n",
    "    return\n",
    "end"
   ]
  },
  {
   "cell_type": "code",
   "execution_count": null,
   "metadata": {},
   "outputs": [],
   "source": [
    "using InteractiveDynamics\n",
    "using CairoMakie\n",
    "ac(agent) = agent.infected ? :green : :black\n",
    "as(agent) = agent.infected ? 10 : 8\n",
    "model = initialise()"
   ]
  },
  {
   "cell_type": "code",
   "execution_count": null,
   "metadata": {},
   "outputs": [],
   "source": [
    "abmvideo(\"outbreak.mp4\", model, agent_step!;\n",
    "    title = \"Zombie outbreak\", \n",
    "    framerate = 15, \n",
    "    frames = 200, \n",
    "    as, ac)\n",
    "\n",
    "display_mp4(\"outbreak.mp4\")"
   ]
  },
  {
   "cell_type": "markdown",
   "metadata": {},
   "source": [
    "## Runtime information"
   ]
  },
  {
   "cell_type": "code",
   "execution_count": null,
   "metadata": {},
   "outputs": [],
   "source": [
    "versioninfo()"
   ]
  },
  {
   "cell_type": "code",
   "execution_count": null,
   "metadata": {},
   "outputs": [],
   "source": [
    "using Pkg\n",
    "Pkg.status()"
   ]
  }
 ],
 "metadata": {
  "kernelspec": {
   "display_name": "Julia 1.8.0",
   "language": "julia",
   "name": "julia-1.8"
  },
  "language_info": {
   "file_extension": ".jl",
   "mimetype": "application/julia",
   "name": "julia",
   "version": "1.8.0"
  },
  "orig_nbformat": 4
 },
 "nbformat": 4,
 "nbformat_minor": 2
}
