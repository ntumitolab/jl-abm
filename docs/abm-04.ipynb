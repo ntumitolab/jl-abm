{
 "cells": [
  {
   "cell_type": "markdown",
   "metadata": {},
   "source": [
    "# COVID-19 social distancing model\n",
    "\n",
    "Source: [Agents.jl model zoo](https://juliadynamics.github.io/AgentsExampleZoo.jl/dev/examples/social_distancing/)"
   ]
  },
  {
   "cell_type": "code",
   "execution_count": null,
   "metadata": {},
   "outputs": [],
   "source": [
    "using Agents, Random"
   ]
  },
  {
   "cell_type": "markdown",
   "metadata": {},
   "source": [
    "Let us first create a simple model where balls move around in a continuous space. We need to create agents that comply with `ContinuousSpace`, i.e. they have a pos and vel fields, both of which are tuples of float numbers."
   ]
  },
  {
   "cell_type": "code",
   "execution_count": null,
   "metadata": {},
   "outputs": [],
   "source": [
    "mutable struct Agent <: AbstractAgent\n",
    "    id::Int                 # Mandatory Agent identifier\n",
    "    pos::NTuple{2,Float64}  # Position, required for agents in the ContinuousSpace\n",
    "    vel::NTuple{2,Float64}  # Moving speeds\n",
    "    mass::Float64           # Can move or not\n",
    "end"
   ]
  },
  {
   "cell_type": "code",
   "execution_count": null,
   "metadata": {},
   "outputs": [],
   "source": [
    "function ball_model(; speed = 0.002)\n",
    "    space2d = ContinuousSpace((1, 1), 0.02)\n",
    "    model = ABM(Agent, space2d, properties = Dict(:dt => 1.0), rng = MersenneTwister(42))\n",
    "\n",
    "    # Add agents to the model\n",
    "    for ind in 1:500\n",
    "        pos = Tuple(rand(model.rng, 2))\n",
    "        vel = sincos(2π * rand(model.rng)) .* speed\n",
    "        mass = 1.0\n",
    "        add_agent!(pos, model, vel, mass)\n",
    "    end\n",
    "    return model\n",
    "end\n",
    "\n",
    "model = ball_model()"
   ]
  },
  {
   "cell_type": "code",
   "execution_count": null,
   "metadata": {},
   "outputs": [],
   "source": [
    "# Agents.move_agent!()\n",
    "agent_step!(agent, model) = move_agent!(agent, model, model.dt)"
   ]
  },
  {
   "cell_type": "code",
   "execution_count": null,
   "metadata": {},
   "outputs": [],
   "source": [
    "using InteractiveDynamics\n",
    "using CairoMakie\n",
    "\n",
    "abmvideo(\n",
    "    \"socialdist1.gif\",\n",
    "    model,\n",
    "    agent_step!;\n",
    "    title = \"Ball Model\",\n",
    "    frames = 50,\n",
    "    spf = 2,\n",
    "    framerate = 25,\n",
    ")\n",
    "\n",
    "using Base64\n",
    "\n",
    "# Helper function to show gif animation in Jupyter notebooks\n",
    "function showgif(filename)\n",
    "    open(filename) do f\n",
    "        base64_video = Base64.base64encode(f)\n",
    "        display(\"text/html\", \"\"\"<img src=\"data:image/gif;base64,$base64_video\">\"\"\")\n",
    "    end\n",
    "end\n",
    "\n",
    "showgif(\"socialdist1.gif\")"
   ]
  },
  {
   "cell_type": "markdown",
   "metadata": {},
   "source": [
    "As you can see the agents move in a straight line in periodic space. There is no interaction yet. Let's change that.\n",
    "\n",
    "## Billiard-like interaction\n",
    "\n",
    "Using the continuous space API:\n",
    "\n",
    "- `interacting_pairs()`\n",
    "- `elastic_collision!()`\n",
    "\n",
    "And we redefine the stepping function:"
   ]
  },
  {
   "cell_type": "code",
   "execution_count": null,
   "metadata": {},
   "outputs": [],
   "source": [
    "function model_step!(model)\n",
    "    for (a1, a2) in interacting_pairs(model, 0.012, :nearest)\n",
    "        elastic_collision!(a1, a2, :mass)\n",
    "    end\n",
    "end"
   ]
  },
  {
   "cell_type": "code",
   "execution_count": null,
   "metadata": {},
   "outputs": [],
   "source": [
    "model2 = ball_model()\n",
    "\n",
    "abmvideo(\n",
    "    \"socialdist2.gif\",\n",
    "    model2,\n",
    "    agent_step!,\n",
    "    model_step!;\n",
    "    title = \"Billiard-like\",\n",
    "    frames = 50,\n",
    "    spf = 2,\n",
    "    framerate = 25,\n",
    ")\n",
    "\n",
    "showgif(\"socialdist2.gif\")"
   ]
  },
  {
   "cell_type": "markdown",
   "metadata": {},
   "source": [
    "## Immovable agents\n",
    "\n",
    "For the following social distancing example, it will become crucial that some agents don't move, and can't be moved (i.e. they stay \"isolated\"). This is very easy to do with the elastic_collision! function, we only have to make some agents have infinite mass."
   ]
  },
  {
   "cell_type": "code",
   "execution_count": null,
   "metadata": {},
   "outputs": [],
   "source": [
    "model3 = ball_model()\n",
    "\n",
    "for id in 1:400\n",
    "    agent = model3[id]\n",
    "    agent.mass = Inf\n",
    "    agent.vel = (0.0, 0.0)\n",
    "end\n",
    "\n",
    "abmvideo(\n",
    "    \"socialdist3.gif\",\n",
    "    model3,\n",
    "    agent_step!,\n",
    "    model_step!;\n",
    "    title = \"Billiard-like with stationary agents\",\n",
    "    frames = 50,\n",
    "    spf = 2,\n",
    "    framerate = 25,\n",
    ")\n",
    "\n",
    "showgif(\"socialdist3.gif\")"
   ]
  },
  {
   "cell_type": "markdown",
   "metadata": {},
   "source": [
    "## Adding Virus spread (SIR model)\n",
    "\n",
    "The agents can be infected with a disease and transfer the disease to other agents around them."
   ]
  },
  {
   "cell_type": "code",
   "execution_count": null,
   "metadata": {},
   "outputs": [],
   "source": [
    "mutable struct PoorSoul <: AbstractAgent\n",
    "    id::Int\n",
    "    pos::NTuple{2,Float64}\n",
    "    vel::NTuple{2,Float64}\n",
    "    mass::Float64\n",
    "    days_infected::Int  # number of days since is infected\n",
    "    status::Symbol  # :S, :I or :R\n",
    "    β::Float64\n",
    "end"
   ]
  },
  {
   "cell_type": "markdown",
   "metadata": {},
   "source": [
    " β is the transmission probability, which we choose to make an agent parameter instead of a model parameter. It reflects the level of hygiene of an individual. \n",
    "\n",
    " And the model creation function becomes:"
   ]
  },
  {
   "cell_type": "code",
   "execution_count": null,
   "metadata": {},
   "outputs": [],
   "source": [
    "const steps_per_day = 24 # One tick per hour\n",
    "\n",
    "function sir_initiation(;\n",
    "    infection_period = 30 * steps_per_day,\n",
    "    detection_time = 14 * steps_per_day,\n",
    "    reinfection_probability = 0.05,\n",
    "    isolated = 0.0, # in percentage\n",
    "    interaction_radius = 0.012,\n",
    "    dt = 1.0,\n",
    "    speed = 0.002,\n",
    "    death_rate = 0.044,\n",
    "    N = 1000,\n",
    "    initial_infected = 5,\n",
    "    seed = 42,\n",
    "    βmin = 0.2,\n",
    "    βmax = 0.5,\n",
    ")\n",
    "\n",
    "    properties = (;\n",
    "        infection_period,\n",
    "        reinfection_probability,\n",
    "        detection_time,\n",
    "        death_rate,\n",
    "        interaction_radius,\n",
    "        dt,\n",
    "    )\n",
    "    space = ContinuousSpace((3,3), 0.02)\n",
    "    model = ABM(PoorSoul, space, properties = Dict(pairs(properties)), rng = MersenneTwister(seed))\n",
    "\n",
    "    # Add initial individual agents\n",
    "    for ind in 1:N\n",
    "        pos = Tuple(rand(model.rng, 2)*3)\n",
    "        status = ind ≤ N - initial_infected ? :S : :I\n",
    "        isisolated = ind ≤ isolated * N\n",
    "        mass = isisolated ? Inf : 1.0\n",
    "        vel = isisolated ? (0.0, 0.0) : sincos(2π * rand(model.rng)) .* speed\n",
    "\n",
    "        β = (βmax - βmin) * rand(model.rng) + βmin\n",
    "        add_agent!(pos, model, vel, mass, 0, status, β)\n",
    "    end\n",
    "\n",
    "    return model\n",
    "end"
   ]
  },
  {
   "cell_type": "markdown",
   "metadata": {},
   "source": [
    "To visualize this model, we will use black color for the susceptible, red for the infected infected and green for the recovered."
   ]
  },
  {
   "cell_type": "code",
   "execution_count": null,
   "metadata": {},
   "outputs": [],
   "source": [
    "sir_model = sir_initiation()\n",
    "\n",
    "sir_colors(a) = a.status == :S ? \"#2b2b33\" : a.status == :I ? \"#bf2642\" : \"#338c54\"\n",
    "\n",
    "fig, abmstepper = abmplot(sir_model; ac = sir_colors)\n",
    "fig # display figure"
   ]
  },
  {
   "cell_type": "markdown",
   "metadata": {},
   "source": [
    "Modify the `model_step!` function to simulate transmission."
   ]
  },
  {
   "cell_type": "code",
   "execution_count": null,
   "metadata": {},
   "outputs": [],
   "source": [
    "function transmit!(a1, a2, reinfection_probability)\n",
    "\n",
    "    infected, other = a1.status == :I ? (a1, a2) : (a2, a1)\n",
    "\n",
    "    # if the other agent is already infected, do nothing\n",
    "    if other.status == :I\n",
    "        return\n",
    "    end\n",
    "\n",
    "    # Lucky and not infected\n",
    "    if rand(model.rng) > infected.β\n",
    "        return\n",
    "    end\n",
    "\n",
    "    # Risk of reinfection\n",
    "    if other.status == :R && rand(model.rng) > reinfection_probability\n",
    "        return\n",
    "    end\n",
    "\n",
    "    # You got virus\n",
    "    other.status = :I\n",
    "end\n",
    "\n",
    "function sir_model_step!(model)\n",
    "    r = model.interaction_radius\n",
    "    for (a1, a2) in interacting_pairs(model, r, :nearest)\n",
    "        transmit!(a1, a2, model.reinfection_probability)\n",
    "        elastic_collision!(a1, a2, :mass)\n",
    "    end\n",
    "end\n",
    "\n",
    "# Agent-specific functions\n",
    "function update!(agent) \n",
    "    if agent.status == :I\n",
    "        agent.days_infected += 1\n",
    "    end\n",
    "end\n",
    "\n",
    "function recover_or_die!(agent, model)\n",
    "    if agent.days_infected ≥ model.infection_period\n",
    "        if rand(model.rng) ≤ model.death_rate\n",
    "            kill_agent!(agent, model)\n",
    "        else\n",
    "            agent.status = :R\n",
    "            agent.days_infected = 0\n",
    "        end\n",
    "    end\n",
    "end\n",
    "\n",
    "function sir_agent_step!(agent, model)\n",
    "    move_agent!(agent, model, model.dt)\n",
    "    update!(agent)\n",
    "    recover_or_die!(agent, model)\n",
    "end"
   ]
  },
  {
   "cell_type": "code",
   "execution_count": null,
   "metadata": {},
   "outputs": [],
   "source": [
    "sir_model = sir_initiation()\n",
    "\n",
    "abmvideo(\n",
    "    \"socialdist4.gif\",\n",
    "    sir_model,\n",
    "    sir_agent_step!,\n",
    "    sir_model_step!;\n",
    "    title = \"SIR model\",\n",
    "    frames = 200,\n",
    "    ac = sir_colors,\n",
    "    as = 10,\n",
    "    spf = 1,\n",
    "    framerate = 20,\n",
    ")\n",
    "\n",
    "showgif(\"socialdist4.gif\")"
   ]
  },
  {
   "cell_type": "markdown",
   "metadata": {},
   "source": [
    "## Analyzing exponential spread"
   ]
  },
  {
   "cell_type": "code",
   "execution_count": null,
   "metadata": {},
   "outputs": [],
   "source": [
    "infected(x) = count(i == :I for i in x)\n",
    "recovered(x) = count(i == :R for i in x)\n",
    "adata = [(:status, infected), (:status, recovered)]"
   ]
  },
  {
   "cell_type": "code",
   "execution_count": null,
   "metadata": {},
   "outputs": [],
   "source": [
    "# Try different parameters\n",
    "r1, r2 = 0.04, 0.33\n",
    "β1, β2 = 0.5, 0.1\n",
    "sir_model1 = sir_initiation(reinfection_probability = r1, βmin = β1)\n",
    "sir_model2 = sir_initiation(reinfection_probability = r2, βmin = β1)\n",
    "sir_model3 = sir_initiation(reinfection_probability = r1, βmin = β2)\n",
    "\n",
    "data1, _ = run!(sir_model1, sir_agent_step!, sir_model_step!, 2000; adata)\n",
    "data2, _ = run!(sir_model2, sir_agent_step!, sir_model_step!, 2000; adata)\n",
    "data3, _ = run!(sir_model3, sir_agent_step!, sir_model_step!, 2000; adata)\n",
    "\n",
    "data1[(end-10):end, :]"
   ]
  },
  {
   "cell_type": "code",
   "execution_count": null,
   "metadata": {},
   "outputs": [],
   "source": [
    "using CairoMakie\n",
    "\n",
    "figure = Figure()\n",
    "ax = figure[1, 1] = Axis(figure; ylabel = \"Infected\", xlabel=\"Steps\")\n",
    "l1 = lines!(ax, data1[:, dataname((:status, infected))], color = :orange)\n",
    "l2 = lines!(ax, data2[:, dataname((:status, infected))], color = :blue)\n",
    "l3 = lines!(ax, data3[:, dataname((:status, infected))], color = :green)\n",
    "figure[1, 2] = Legend(figure, [l1, l2, l3], [\"r=$r1, beta=$β1\", \"r=$r2, beta=$β1\", \"r=$r1, beta=$β2\"])\n",
    "\n",
    "figure"
   ]
  },
  {
   "cell_type": "markdown",
   "metadata": {},
   "source": [
    "## Social distancing\n",
    "\n",
    "The best way to model social distancing is to make some agents simply not move (which feels like it approximates reality better)."
   ]
  },
  {
   "cell_type": "code",
   "execution_count": null,
   "metadata": {},
   "outputs": [],
   "source": [
    "sir_model = sir_initiation(isolated = 0.8)\n",
    "abmvideo(\n",
    "    \"socialdist5.gif\",\n",
    "    sir_model,\n",
    "    sir_agent_step!,\n",
    "    sir_model_step!;\n",
    "    title = \"Social Distancing\",\n",
    "    frames = 100,\n",
    "    spf = 2,\n",
    "    ac = sir_colors,\n",
    "    framerate = 20,\n",
    ")\n",
    "\n",
    "showgif(\"socialdist5.gif\")"
   ]
  },
  {
   "cell_type": "code",
   "execution_count": null,
   "metadata": {},
   "outputs": [],
   "source": [
    "r4 = 0.04\n",
    "sir_model4 = sir_initiation(reinfection_probability = r4, βmin = β1, isolated = 0.8)\n",
    "\n",
    "data4, _ = run!(sir_model4, sir_agent_step!, sir_model_step!, 2000; adata)\n",
    "\n",
    "l4 = lines!(ax, data4[:, dataname((:status, infected))], color = :red)\n",
    "figure[1, 2] = Legend(\n",
    "    figure,\n",
    "    [l1, l2, l3, l4],\n",
    "    [\"r=$r1, beta=$β1\", \"r=$r2, beta=$β1\", \"r=$r1, beta=$β2\", \"r=$r4, social distancing\"],\n",
    ")\n",
    "figure"
   ]
  }
 ],
 "metadata": {
  "kernelspec": {
   "display_name": "Julia 1.7.2",
   "language": "julia",
   "name": "julia-1.7"
  },
  "language_info": {
   "file_extension": ".jl",
   "mimetype": "application/julia",
   "name": "julia",
   "version": "1.7.2"
  },
  "orig_nbformat": 4
 },
 "nbformat": 4,
 "nbformat_minor": 2
}
