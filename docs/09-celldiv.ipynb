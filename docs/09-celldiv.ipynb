{
 "cells": [
  {
   "cell_type": "markdown",
   "source": [
    "# Cell division model\n",
    "\n",
    "https://juliadynamics.github.io/Agents.jl/stable/examples/delaunay/\n",
    "\n",
    "Using https://github.com/JuliaDynamics/Agents.jl and https://github.com/JuliaGeometry/DelaunayTriangulation.jl"
   ],
   "metadata": {}
  },
  {
   "outputs": [],
   "cell_type": "code",
   "source": [
    "using Agents\n",
    "using StaticArrays\n",
    "import DelaunayTriangulation as DT\n",
    "using DelaunayTriangulation\n",
    "using LinearAlgebra\n",
    "using StreamSampling\n",
    "using Random\n",
    "using StatsBase\n",
    "using CairoMakie\n",
    "CairoMakie.activate!(px_per_unit = 0.5)"
   ],
   "metadata": {},
   "execution_count": null
  },
  {
   "cell_type": "markdown",
   "source": [
    "Define agents (3 colors of cells)"
   ],
   "metadata": {}
  },
  {
   "outputs": [],
   "cell_type": "code",
   "source": [
    "@enum CellType begin\n",
    "    Red\n",
    "    Blue\n",
    "    Orange\n",
    "end\n",
    "\n",
    "@agent struct Cell(ContinuousAgent{2,Float64})\n",
    "    const color::CellType\n",
    "    const birth::Float64\n",
    "    death::Float64 = Inf\n",
    "end"
   ],
   "metadata": {},
   "execution_count": null
  },
  {
   "cell_type": "markdown",
   "source": [
    "Defining methods for the agents"
   ],
   "metadata": {}
  },
  {
   "outputs": [],
   "cell_type": "code",
   "source": [
    "DT.getx(cell::Cell) = cell.pos[1]\n",
    "DT.gety(cell::Cell) = cell.pos[2]\n",
    "DT.number_type(::Type{Cell}) = Float64\n",
    "DT.number_type(::Type{Vector{Cell}}) = Float64\n",
    "DT.is_point2(::Cell) = true"
   ],
   "metadata": {},
   "execution_count": null
  },
  {
   "cell_type": "markdown",
   "source": [
    "Compute parameters for a pair of cells"
   ],
   "metadata": {}
  },
  {
   "outputs": [],
   "cell_type": "code",
   "source": [
    "spring_constant(model, i::Int, j::Int, t) = spring_constant(model, model[i], model[j], t)\n",
    "function spring_constant(model, p::Cell, q::Cell, t; μ=20.0)\n",
    "    δ = norm(p.pos - q.pos)\n",
    "    s = rest_length(model, p, q, t)\n",
    "    t < 1 && return μ ## no adhesion for the initial population\n",
    "    μₕₑₜ = ifelse(p.color == q.color, 1.0, 0.1) ## heterotypic_spring_constant\n",
    "    return ifelse(δ > s, μₕₑₜ * μ, μ)\n",
    "end"
   ],
   "metadata": {},
   "execution_count": null
  },
  {
   "outputs": [],
   "cell_type": "code",
   "source": [
    "rest_length(model, i::Int, j::Int, t) = rest_length(model, model[i], model[j]..., t)\n",
    "function rest_length(model, p, q, t;\n",
    "    s=1.0,  ## mature_cell_spring_rest_length\n",
    "    ε=0.05, ## expansion_rate\n",
    ")\n",
    "    return min(s, (s - ε) * t + ε)\n",
    "end"
   ],
   "metadata": {},
   "execution_count": null
  },
  {
   "outputs": [],
   "cell_type": "code",
   "source": [
    "function proliferation_rate(model, i::Int, t; tₘᵢₙ = 1.0, K=100.0^2, Aₘᵢₙ=0.01)\n",
    "    p = model[i]\n",
    "    age = t - p.birth\n",
    "    tₘₐₓ = p.color == Red ? 15.0 : p.color == Blue ? 20.0 : 3.0\n",
    "    A = get_area(model.tessellation, i)\n",
    "    if age ≤ tₘᵢₙ || age ≥ tₘₐₓ || A < Aₘᵢₙ\n",
    "        return 0.0\n",
    "    end\n",
    "    Aᵢ = get_area(model.tessellation, i)\n",
    "    β = p.color == Red ? 0.4 : p.color == Blue ? 0.5 : 0.8\n",
    "    return max(0.0, β * (1 - 1 / (K * Aᵢ)))\n",
    "end"
   ],
   "metadata": {},
   "execution_count": null
  },
  {
   "cell_type": "markdown",
   "source": [
    "Forces between two cells"
   ],
   "metadata": {}
  },
  {
   "outputs": [],
   "cell_type": "code",
   "source": [
    "force(model, i::Int, j::Int, t) = force(model, model[i], model[j], t)\n",
    "function force(model, p::Cell, q::Cell, t; ℓₘₐₓ = 1.5)\n",
    "    rᵢⱼ = q.pos - p.pos\n",
    "    δ = norm(rᵢⱼ)\n",
    "    if δ > ℓₘₐₓ\n",
    "        return SVector(0.0, 0.0)\n",
    "    end\n",
    "    μ = spring_constant(model, p, q, t)\n",
    "    s = rest_length(model, p, q, t)\n",
    "    return μ * (δ - s) * rᵢⱼ / δ\n",
    "end"
   ],
   "metadata": {},
   "execution_count": null
  },
  {
   "cell_type": "markdown",
   "source": [
    "Final random tug"
   ],
   "metadata": {}
  },
  {
   "outputs": [],
   "cell_type": "code",
   "source": [
    "function random_force(model, i::Int; ξ=0.01)\n",
    "    p = model[i]\n",
    "    Δt = model.dt\n",
    "    return sqrt(2ξ / Δt) * SVector(randn(), randn())\n",
    "end"
   ],
   "metadata": {},
   "execution_count": null
  },
  {
   "cell_type": "markdown",
   "source": [
    "Accumulate forces acting on one cell"
   ],
   "metadata": {}
  },
  {
   "outputs": [],
   "cell_type": "code",
   "source": [
    "function force(model, i::Int, t)\n",
    "    F = SVector(0.0, 0.0)\n",
    "    for j in get_neighbours(model.triangulation, i)\n",
    "        DT.is_ghost_vertex(j) && continue\n",
    "        F = F + force(model, i, j, t)\n",
    "    end\n",
    "    F = F + random_force(model, i)\n",
    "    return F\n",
    "end"
   ],
   "metadata": {},
   "execution_count": null
  },
  {
   "cell_type": "markdown",
   "source": [
    "Cell movement velocity"
   ],
   "metadata": {}
  },
  {
   "outputs": [],
   "cell_type": "code",
   "source": [
    "velocity(model, i, t; η=0.5) = force(model, i, t) / η"
   ],
   "metadata": {},
   "execution_count": null
  },
  {
   "cell_type": "markdown",
   "source": [
    "First `update_velocities!()` and then `update_positions!()` for each cell to avoid positional errors"
   ],
   "metadata": {}
  },
  {
   "outputs": [],
   "cell_type": "code",
   "source": [
    "function update_velocities!(model, t)\n",
    "    for i in each_solid_vertex(model.triangulation)\n",
    "        model[i].vel = velocity(model, i, t)\n",
    "    end\n",
    "    return model\n",
    "end\n",
    "\n",
    "function new_position(model, i, t)\n",
    "    xᵢ = model[i]\n",
    "    r = xᵢ.pos + model.dt * xᵢ.vel\n",
    "    x, y = r\n",
    "    xmax, ymax = spacesize(model)\n",
    "    # Freeze if the new position is out of bounds\n",
    "    if x < 0 || x > xmax || y < 0 || y > ymax\n",
    "        r = xᵢ.pos\n",
    "    end\n",
    "    return r\n",
    "end\n",
    "\n",
    "function update_positions!(model, t)\n",
    "    update_velocities!(model, t)\n",
    "    for i in each_solid_vertex(model.triangulation)\n",
    "        model[i].pos = new_position(model, i, t)\n",
    "    end\n",
    "    return model\n",
    "end"
   ],
   "metadata": {},
   "execution_count": null
  },
  {
   "cell_type": "markdown",
   "source": [
    "Cumulative sum of proliferation probabilities"
   ],
   "metadata": {}
  },
  {
   "outputs": [],
   "cell_type": "code",
   "source": [
    "function proliferation_probability(model, t)\n",
    "    Δt = model.dt\n",
    "    # Technically nagents is not the number of alive agents, but with the way we are handling agents this is correct\n",
    "    probs = zeros(nagents(model))\n",
    "    for i in allids(model)\n",
    "        # Skip empty and dead cells\n",
    "        if !DT.has_vertex(model.triangulation, i) || (i ∈ model.dead_cells)\n",
    "            probs[i] = 0.0\n",
    "        else\n",
    "            probs[i] = proliferation_rate(model, i, t) * Δt\n",
    "        end\n",
    "    end\n",
    "    return probs\n",
    "end\n",
    "\n",
    "select_proliferative_cell(model, probs) = StatsBase.sample(weights(probs))"
   ],
   "metadata": {},
   "execution_count": null
  },
  {
   "cell_type": "markdown",
   "source": [
    "sampling from a Voronoi cell"
   ],
   "metadata": {}
  },
  {
   "outputs": [],
   "cell_type": "code",
   "source": [
    "function sample_triangle(tri::Triangulation, T)\n",
    "    i, j, k = triangle_vertices(T)\n",
    "    p, q, r = get_point(tri, i, j, k)\n",
    "    px, py = getxy(p)\n",
    "    qx, qy = getxy(q)\n",
    "    rx, ry = getxy(r)\n",
    "    a = (qx - px, qy - py)\n",
    "    b = (rx - px, ry - py)\n",
    "    u₁, u₂ = rand(), rand()\n",
    "    if u₁ + u₂ > 1\n",
    "        u₁, u₂ = 1 - u₁, 1 - u₂\n",
    "    end\n",
    "    ax, ay = getxy(a)\n",
    "    bx, by = getxy(b)\n",
    "    wx, wy = u₁ * ax + u₂ * bx, u₁ * ay + u₂ * by\n",
    "    return SVector(px + wx, py + wy)\n",
    "end"
   ],
   "metadata": {},
   "execution_count": null
  },
  {
   "cell_type": "markdown",
   "source": [
    "select a random triangle from a triangulation"
   ],
   "metadata": {}
  },
  {
   "outputs": [],
   "cell_type": "code",
   "source": [
    "function random_triangle(tri::Triangulation)\n",
    "    triangles = DT.each_solid_triangle(tri)\n",
    "    area(T) = DT.triangle_area(get_point(tri, triangle_vertices(T)...)...)\n",
    "    T = itsample(triangles, area)\n",
    "    return T\n",
    "end"
   ],
   "metadata": {},
   "execution_count": null
  },
  {
   "cell_type": "markdown",
   "source": [
    "First, triangulate the Voronoi cell. Then, sample a triangle from the triangulation, and finally sample a point from the triangle"
   ],
   "metadata": {}
  },
  {
   "outputs": [],
   "cell_type": "code",
   "source": [
    "function triangulate_voronoi_cell(vorn::VoronoiTessellation, i)\n",
    "    S = @view get_polygon(vorn, i)[1:end-1]\n",
    "    points = DT.get_polygon_points(vorn)\n",
    "    return triangulate_convex(points, S)\n",
    "end\n",
    "function sample_voronoi_cell(vorn::VoronoiTessellation, i)\n",
    "    tri = triangulate_voronoi_cell(vorn, i)\n",
    "    T = random_triangle(tri)\n",
    "    return sample_triangle(tri, T)\n",
    "end\n",
    "\n",
    "mutation_probability(p) = p.color == Red ? 0.3 : p.color == Blue ? 0.5 : 0.05 # pₘᵤₜ"
   ],
   "metadata": {},
   "execution_count": null
  },
  {
   "cell_type": "markdown",
   "source": [
    "computing the daughter cell and performing the proliferation event."
   ],
   "metadata": {}
  },
  {
   "outputs": [],
   "cell_type": "code",
   "source": [
    "function place_daughter_cell!(model, i::Int, t)\n",
    "    parent = model[i]\n",
    "    # this is an SVector, not a Cell\n",
    "    daughterpos = sample_voronoi_cell(model.tessellation, i)\n",
    "    u = rand()\n",
    "    clr = parent.color\n",
    "    if u < mutation_probability(parent)\n",
    "        newclr = clr == Red ? Blue : clr == Blue ? Orange : Red\n",
    "    else\n",
    "        newclr = clr\n",
    "    end\n",
    "    add_agent!(daughterpos, model; color=newclr, birth=t, vel=SVector(0.0, 0.0))\n",
    "    return daughterpos\n",
    "end\n",
    "\n",
    "function proliferate_cells!(model, t)\n",
    "    probs = proliferation_probability(model, t)\n",
    "    u = rand()\n",
    "    event = u < sum(probs)\n",
    "    !event && return false\n",
    "    i = select_proliferative_cell(model, probs)\n",
    "    daughterpos = place_daughter_cell!(model, i, t)\n",
    "    return true\n",
    "end\n",
    "\n",
    "max_age(p) = p.color == Red ? 10.0 : p.color == Blue ? 10.0 : 3.0 # dₘₐₓ\n",
    "death_rate(p) = p.color == Red ? 0.001 : p.color == Blue ? 0.00005 : 0.0001 # psick"
   ],
   "metadata": {},
   "execution_count": null
  },
  {
   "cell_type": "markdown",
   "source": [
    "Mark cell i as dead"
   ],
   "metadata": {}
  },
  {
   "outputs": [],
   "cell_type": "code",
   "source": [
    "function cull_cell!(model, i::Int, t)\n",
    "    p = model[i]\n",
    "    elder = t - p.birth> max_age(p)\n",
    "    sick = rand() < model.dt * death_rate(p)\n",
    "    xmax, ymax = spacesize(model)\n",
    "    x, y = p.pos\n",
    "    outside = x < 0 || x > xmax || y < 0 || y > ymax\n",
    "    if elder || sick || outside\n",
    "        push!(model.dead_cells, i)\n",
    "        p.death = t\n",
    "    end\n",
    "    return model\n",
    "end\n",
    "function cull_cells!(model, t)\n",
    "    for i in each_solid_vertex(model.triangulation)\n",
    "        cull_cell!(model, i, t)\n",
    "    end\n",
    "    return model\n",
    "end"
   ],
   "metadata": {},
   "execution_count": null
  },
  {
   "cell_type": "markdown",
   "source": [
    "(Finally,) define the stepping function of the ABModel"
   ],
   "metadata": {}
  },
  {
   "outputs": [],
   "cell_type": "code",
   "source": [
    "function model_step!(model)\n",
    "    stepn = abmtime(model)\n",
    "    t = stepn * model.dt\n",
    "    cull_cells!(model, t)\n",
    "    proliferate_cells!(model, t)\n",
    "    update_positions!(model, t)\n",
    "    points = [a.pos for a in allagents(model)]\n",
    "    model.triangulation = retriangulate(model.triangulation, points; skip_points=model.dead_cells)\n",
    "    model.tessellation = voronoi(model.triangulation, clip=true)\n",
    "    return model\n",
    "end"
   ],
   "metadata": {},
   "execution_count": null
  },
  {
   "cell_type": "markdown",
   "source": [
    "Initialize the model"
   ],
   "metadata": {}
  },
  {
   "outputs": [],
   "cell_type": "code",
   "source": [
    "function initialize_cell_model(;\n",
    "    ninit=50,\n",
    "    radius=2.0,\n",
    "    dt=0.01,\n",
    "    sides=SVector(20.0, 20.0),\n",
    "    seed=0)\n",
    "    Random.seed!(seed)\n",
    "    # Generate the initial random positions\n",
    "    cent = SVector(sides[1] / 2, sides[2] / 2)\n",
    "    cells = map(1:ninit) do i\n",
    "        θ = 2π * rand()\n",
    "        r = radius * sqrt(rand())\n",
    "        pos = cent + SVector(r * cos(θ), r * sin(θ))\n",
    "        cell = Cell(; id=i, pos=pos,\n",
    "            color=Red, birth=0.0, vel=SVector(0.0, 0.0))\n",
    "    end\n",
    "    positions = [cell.pos for cell in cells]\n",
    "\n",
    "    # Compute the triangulation and the tessellation\n",
    "    triangulation = triangulate(positions)\n",
    "    tessellation = voronoi(triangulation, clip=true)\n",
    "\n",
    "    # Define the model parameters\n",
    "    properties = Dict(\n",
    "        :triangulation => triangulation,\n",
    "        :tessellation => tessellation,\n",
    "        :dt => dt,\n",
    "        :dead_cells => Set{Int}()\n",
    "    )\n",
    "\n",
    "    # Define the space\n",
    "    space = ContinuousSpace(sides; periodic=false)\n",
    "\n",
    "    # Define the model\n",
    "    model = StandardABM(Cell, space; model_step!, properties, container=Vector)\n",
    "\n",
    "    # Add cells\n",
    "    for (id, pos) in pairs(positions)\n",
    "        add_agent!(pos, model; color=Red, birth=0.0, vel=SVector(0.0, 0.0))\n",
    "    end\n",
    "\n",
    "    return model\n",
    "end"
   ],
   "metadata": {},
   "execution_count": null
  },
  {
   "cell_type": "markdown",
   "source": [
    "Helper functions"
   ],
   "metadata": {}
  },
  {
   "outputs": [],
   "cell_type": "code",
   "source": [
    "function count_cell_type(model, type)\n",
    "    stepn = abmtime(model)\n",
    "    t = stepn * model.dt\n",
    "    n = 0\n",
    "    for i in each_solid_vertex(model.triangulation)\n",
    "        n += model[i].color == type\n",
    "    end\n",
    "    return n\n",
    "end\n",
    "count_red(model) = count_cell_type(model, Red)\n",
    "count_blue(model) = count_cell_type(model, Blue)\n",
    "count_orange(model) = count_cell_type(model, Orange)\n",
    "count_total(model) = num_solid_vertices(model.triangulation)\n",
    "function average_cell_area(model)\n",
    "    area_itr = (get_area(model.tessellation, i) for i in each_solid_vertex(model.triangulation))\n",
    "    mean_area = mean(area_itr)\n",
    "    return mean_area\n",
    "end\n",
    "function cell_diameter(vorn, i)\n",
    "    S = get_polygon(vorn, i)\n",
    "    # This is an O(|S|^2) method, but |S| is small so it is fine\n",
    "    max_d = 0.0\n",
    "    for i in S\n",
    "        p = get_polygon_point(vorn, i)\n",
    "        for j in S\n",
    "            i == j && continue\n",
    "            q = get_polygon_point(vorn, j)\n",
    "            d = norm(getxy(p) .- getxy(q))\n",
    "            max_d = max(max_d, d)\n",
    "        end\n",
    "    end\n",
    "    return max_d\n",
    "end\n",
    "function average_cell_diameter(model)\n",
    "    diam_itr = (cell_diameter(model.tessellation, i) for i in each_solid_vertex(model.triangulation))\n",
    "    mean_diam = mean(diam_itr)\n",
    "    return mean_diam\n",
    "end\n",
    "function average_spring_length(model)\n",
    "    spring_itr = (norm(model[i].pos - model[j].pos) for (i, j) in each_solid_edge(model.triangulation))\n",
    "    mean_spring = mean(spring_itr)\n",
    "    return mean_spring\n",
    "end"
   ],
   "metadata": {},
   "execution_count": null
  },
  {
   "cell_type": "markdown",
   "source": [
    "Run the simulations"
   ],
   "metadata": {}
  },
  {
   "outputs": [],
   "cell_type": "code",
   "source": [
    "finalT = 50.0\n",
    "model = initialize_cell_model()\n",
    "nsteps = Int(finalT / model.dt)\n",
    "mdata = [count_red, count_blue, count_orange, count_total,\n",
    "    average_cell_area, average_cell_diameter, average_spring_length]\n",
    "@time agent_df, model_df = run!(model, nsteps; mdata);"
   ],
   "metadata": {},
   "execution_count": null
  },
  {
   "cell_type": "markdown",
   "source": [
    "Visualize using CairoMakie"
   ],
   "metadata": {}
  },
  {
   "outputs": [],
   "cell_type": "code",
   "source": [
    "time = 0:model.dt:finalT\n",
    "fig = Figure(fontsize=24)\n",
    "ax = Axis(fig[1, 1], xlabel=\"Time\", ylabel=\"Count\", width=600, height=400)\n",
    "lines!(ax, time, model_df[!, :count_red], color=:red, label=\"Red\", linewidth=3)\n",
    "lines!(ax, time, model_df[!, :count_blue], color=:blue, label=\"Blue\", linewidth=3)\n",
    "lines!(ax, time, model_df[!, :count_orange], color=:orange, label=\"Orange\", linewidth=3)\n",
    "lines!(ax, time, model_df[!, :count_total], color=:black, label=\"Total\", linewidth=3)\n",
    "axislegend(ax, position=:lt)\n",
    "ax = Axis(fig[1, 2], xlabel=\"Time\", ylabel=\"Average\", width=600, height=400)\n",
    "lines!(ax, time, model_df[!, :average_cell_area], color=:black, label=\"Cell area\", linewidth=3)\n",
    "lines!(ax, time, model_df[!, :average_cell_diameter], color=:magenta, label=\"Cell diameter\", linewidth=3)\n",
    "lines!(ax, time, model_df[!, :average_spring_length], color=:red, label=\"Spring length\", linewidth=3)\n",
    "axislegend(ax, position=:rb)\n",
    "resize_to_layout!(fig)\n",
    "fig"
   ],
   "metadata": {},
   "execution_count": null
  },
  {
   "cell_type": "markdown",
   "source": [
    "Animate the results"
   ],
   "metadata": {}
  },
  {
   "outputs": [],
   "cell_type": "code",
   "source": [
    "voronoi_marker = (model, cell) -> begin\n",
    "    id = cell.id\n",
    "    verts = get_polygon_coordinates(model.tessellation, id)\n",
    "    return Makie.Polygon([Point2f(getxy(q) .- cell.pos) for q in verts])\n",
    "end\n",
    "voronoi_color(cell) = cell.color == Red ? :red : cell.color == Blue ? :blue : :orange\n",
    "model = initialize_cell_model() ## reinitialise the model for the animation\n",
    "fig, ax, amobs = abmplot(model, agent_marker=cell -> voronoi_marker(model, cell), agent_color=voronoi_color,\n",
    "    agentsplotkwargs=(strokewidth=1,), figure=(; size=(1600, 800), fontsize=34), mdata=mdata,\n",
    "    axis=(; width=800, height=800), when=10)\n",
    "current_time = Observable(0.0)\n",
    "t = Observable([0.0])\n",
    "nred = Observable(amobs.mdf[][!, :count_red])\n",
    "nblue = Observable(amobs.mdf[][!, :count_blue])\n",
    "norange = Observable(amobs.mdf[][!, :count_orange])\n",
    "ntotal = Observable(amobs.mdf[][!, :count_total])\n",
    "avg_area = Observable(amobs.mdf[][!, :average_cell_area])\n",
    "avg_diam = Observable(amobs.mdf[][!, :average_cell_diameter])\n",
    "avg_spring = Observable(amobs.mdf[][!, :average_spring_length])\n",
    "plot_layout = fig[:, end+1] = GridLayout()\n",
    "count_layout = plot_layout[1, 1] = GridLayout()\n",
    "ax_count = Axis(count_layout[1, 1], xlabel=\"Time\", ylabel=\"Count\", width=600, height=400)\n",
    "lines!(ax_count, t, nred, color=:red, label=\"Red\", linewidth=3)\n",
    "lines!(ax_count, t, nblue, color=:blue, label=\"Blue\", linewidth=3)\n",
    "lines!(ax_count, t, norange, color=:orange, label=\"Orange\", linewidth=3)\n",
    "lines!(ax_count, t, ntotal, color=:black, label=\"Total\", linewidth=3)\n",
    "vlines!(ax_count, current_time, color=:grey, linestyle=:dash, linewidth=3)\n",
    "xlims!(ax_count, 0, finalT)\n",
    "ylims!(ax_count, 0, 800)\n",
    "avg_layout = plot_layout[2, 1] = GridLayout()\n",
    "ax_avg = Axis(avg_layout[1, 1], xlabel=\"Time\", ylabel=\"Average\", width=600, height=400)\n",
    "lines!(ax_avg, t, avg_area, color=:black, label=\"Cell area\", linewidth=3)\n",
    "lines!(ax_avg, t, avg_diam, color=:magenta, label=\"Cell diameter\", linewidth=3)\n",
    "lines!(ax_avg, t, avg_spring, color=:red, label=\"Spring length\", linewidth=3)\n",
    "vlines!(ax_avg, current_time, color=:grey, linestyle=:dash, linewidth=3)\n",
    "axislegend(ax_avg, position=:rt)\n",
    "xlims!(ax_avg, 0, finalT)\n",
    "ylims!(ax_avg, 0, 2)\n",
    "resize_to_layout!(fig)\n",
    "on(amobs.mdf) do mdf\n",
    "    current_time[] = abmtime(amobs.model[]) * model.dt\n",
    "    t.val = mdf[!, :time] .* model.dt\n",
    "    nred[] = mdf[!, :count_red]\n",
    "    nblue[] = mdf[!, :count_blue]\n",
    "    norange[] = mdf[!, :count_orange]\n",
    "    ntotal[] = mdf[!, :count_total]\n",
    "    avg_area[] = mdf[!, :average_cell_area]\n",
    "    avg_diam[] = mdf[!, :average_cell_diameter]\n",
    "    avg_spring[] = mdf[!, :average_spring_length]\n",
    "end"
   ],
   "metadata": {},
   "execution_count": null
  },
  {
   "cell_type": "markdown",
   "source": [
    "Record the results for every 10 steps"
   ],
   "metadata": {}
  },
  {
   "outputs": [],
   "cell_type": "code",
   "source": [
    "vio = Makie.Record(fig, 1:(nsteps ÷ 10), framerate=24) do i\n",
    "    step!(amobs, 10)\n",
    "end"
   ],
   "metadata": {},
   "execution_count": null
  },
  {
   "cell_type": "markdown",
   "source": [
    "save(\"celldiv.mp4\", vio)"
   ],
   "metadata": {}
  },
  {
   "cell_type": "markdown",
   "source": [
    "---\n",
    "\n",
    "*This notebook was generated using [Literate.jl](https://github.com/fredrikekre/Literate.jl).*"
   ],
   "metadata": {}
  }
 ],
 "nbformat_minor": 3,
 "metadata": {
  "language_info": {
   "file_extension": ".jl",
   "mimetype": "application/julia",
   "name": "julia",
   "version": "1.12.0"
  },
  "kernelspec": {
   "name": "julia-1.12",
   "display_name": "Julia 1.12.0",
   "language": "julia"
  }
 },
 "nbformat": 4
}