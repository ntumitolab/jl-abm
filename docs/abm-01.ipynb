{
 "cells": [
  {
   "cell_type": "markdown",
   "id": "daaf3862-063d-4876-87c2-0b99a1796fd5",
   "metadata": {},
   "source": [
    "# Agent-based Modeling\n",
    "\n",
    "Agent-based Modeling (ABM) is a simulation method where the autonomous agents interacting with the environment (space) and/or each other by a set of rules.\n",
    "\n",
    "\n",
    "The most obvious example of ABM is non-player characters (NPCs) in computer games.\n",
    "\n",
    "\n",
    "ABM is able to model heterogeneously, i.e. it does not require the environment to be well stirred (as opposed to ODEs), continuous (as opposed to to PDEs), nor need the characteristics of each kind of agents to be identical (as opposed to SSAs). \n",
    "\n",
    "This makes ABM more flexible to model individual behaviors. (e.g. traffic jam, disease spread, molecular interactions)"
   ]
  },
  {
   "cell_type": "markdown",
   "id": "35268fee-7fd2-45f7-acf0-2227d89c7352",
   "metadata": {},
   "source": [
    "## Elements of ABM\n",
    "\n",
    "To use `Agents.jl`, we need to define:\n",
    "\n",
    "- The [**space**](https://juliadynamics.github.io/Agents.jl/stable/api/#Available-spaces) where the agents live\n",
    "- The [**agents**](https://juliadynamics.github.io/Agents.jl/stable/api/#@agent-macro) with self-defined properties.\n",
    "- The **model** to hold the `space`, the `agent`s, and other parameters (called `properties`)\n",
    "- The stepping function `step!()` to tell how the model evolve."
   ]
  },
  {
   "cell_type": "markdown",
   "id": "e1c2fe26-e45b-4bd6-ab08-7952042ff8c1",
   "metadata": {},
   "source": [
    "⚠️ *WARNING*\n",
    "\n",
    "As of 2021-05-26 `abm_plot()` and `abm_video()` [did not work](https://discourse.julialang.org/t/error-no-backend-available-glmakie-cairomakie-wglmakie-when-calling-abm-video-in-interactivedynamics-jl/61626). There might be glitches between `Agents.jl` and `Makie.jl`."
   ]
  },
  {
   "cell_type": "markdown",
   "id": "2cb52017-b662-496a-a824-3f8ef4c72cd7",
   "metadata": {},
   "source": [
    "## Could I do ABM from scratch?"
   ]
  },
  {
   "cell_type": "markdown",
   "id": "0e8eb8a8-8787-49f6-9563-c2fbe0bbb4ae",
   "metadata": {},
   "source": [
    "## Resources\n",
    "\n",
    "- [Documentation](https://juliadynamics.github.io/Agents.jl/stable/) of `Agents.jl`.\n",
    "- [sir-julia](https://github.com/epirecipes/sir-julia) : Various implementations of the classical SIR model in Julia."
   ]
  },
  {
   "cell_type": "code",
   "execution_count": null,
   "id": "34ba35ef-06db-461b-b169-2b816b4cac23",
   "metadata": {
    "execution": {
     "iopub.execute_input": "2022-02-14T20:07:16.411000Z",
     "iopub.status.busy": "2022-02-14T20:07:15.811000Z",
     "iopub.status.idle": "2022-02-14T20:07:29.063000Z",
     "shell.execute_reply": "2022-02-14T20:07:29.031000Z"
    }
   },
   "outputs": [],
   "source": [
    "using Agents\n",
    "using Plots\n",
    "using Random\n",
    "using DataFrames\n",
    "Plots.gr(fmt=:png)"
   ]
  },
  {
   "cell_type": "markdown",
   "id": "f705a7cc-e485-4f56-a095-935a7f0b2ed7",
   "metadata": {},
   "source": [
    "# Example 1 : Schelling's segregation model\n",
    "\n",
    "Taken from `Agents.jl` [tutorial](https://juliadynamics.github.io/Agents.jl/stable/examples/schelling/).\n",
    "\n",
    "- Space  : 2D grid space with a Chebyshev metric. This leads to 8 neighboring positions per position (except at the edges of the grid).\n",
    "- Agents : They belong to one of two groups (0 or 1).\n",
    "- Model : Each position of the grid can be occupied by at most one agent.\n",
    "- For each step\n",
    "  - If an agent has at least 3 neighbors belonging to the same group, then it is happy.\n",
    "  - If an agent is unhappy, it keeps moving to new locations until it is happy.\n",
    "\n",
    "To define an agent type, we should make a mutable struct derived from `AbstractAgent` with 2 mandatory fields:\n",
    "- `id::Int` . The identifier number of the agent.\n",
    "- `pos` . For agents on a 2D grid, the position field should be a tuple of 2 integers.\n",
    "\n",
    "On top of that, we could define other properties for the agents.\n",
    "\n",
    "Alternatively, we can use [`@agent`](https://juliadynamics.github.io/Agents.jl/stable/api/#@agent-macro) macro to let `Agents.jl` set up the mandatory fields for us.\n",
    "\n",
    "```julia\n",
    "@agent SchellingAgent GridAgent{2} begin\n",
    "    mood::Bool\n",
    "    group::Int\n",
    "end\n",
    "```"
   ]
  },
  {
   "cell_type": "code",
   "execution_count": null,
   "id": "a9e2b696-6807-4a1d-976a-6179d0514748",
   "metadata": {
    "execution": {
     "iopub.execute_input": "2022-02-14T20:07:31.676000Z",
     "iopub.status.busy": "2022-02-14T20:07:29.068000Z",
     "iopub.status.idle": "2022-02-14T20:07:31.753000Z",
     "shell.execute_reply": "2022-02-14T20:07:31.753000Z"
    }
   },
   "outputs": [],
   "source": [
    "mutable struct SchellingAgent <: AbstractAgent\n",
    "    id::Int             # The identifier number of the agent\n",
    "    pos::NTuple{2, Int} # The x, y location of the agent on a 2D grid\n",
    "    mood::Bool          # whether the agent is happy in its position. (true = happy)\n",
    "    group::Int          # The group of the agent, determines mood as it interacts with neighbors\n",
    "end"
   ]
  },
  {
   "cell_type": "markdown",
   "id": "3a29cd7f-c825-4423-85d2-2e3c6db232a2",
   "metadata": {},
   "source": [
    "It is recommeded to write a factory function to make model objects so that it will be easy to recreate and change the parameters."
   ]
  },
  {
   "cell_type": "code",
   "execution_count": null,
   "id": "2d755421-bc43-4de2-a2ba-74cb291a493c",
   "metadata": {
    "execution": {
     "iopub.execute_input": "2022-02-14T20:07:31.758000Z",
     "iopub.status.busy": "2022-02-14T20:07:31.757000Z",
     "iopub.status.idle": "2022-02-14T20:07:32.186000Z",
     "shell.execute_reply": "2022-02-14T20:07:32.186000Z"
    }
   },
   "outputs": [],
   "source": [
    "function make_schelling(; numagents = 320, \n",
    "                          griddims = (20, 20), \n",
    "                          min_to_be_happy = 3, \n",
    "                          seed = 125)\n",
    "    space = GridSpace(griddims, periodic = false)\n",
    "    properties = (min_to_be_happy = 3, )\n",
    "\t\n",
    "\t# Random seed for demos to be reproducible\n",
    "\t# Optional in production code\n",
    "    rng = Random.MersenneTwister(seed)\n",
    "\t\n",
    "    model = ABM(\n",
    "        SchellingAgent, space;\n",
    "        properties, rng, scheduler = Schedulers.randomly\n",
    "    )\n",
    "\n",
    "    # populate the model with agents, adding equal amount of the two types of agents\n",
    "    # at random positions in the model\n",
    "    for n in 1:numagents\n",
    "        agent = SchellingAgent(n, (1, 1), false, n < numagents / 2 ? 1 : 2)\n",
    "        add_agent_single!(agent, model)\n",
    "    end\n",
    "    return model\n",
    "end"
   ]
  },
  {
   "cell_type": "markdown",
   "id": "469f9818-582e-4668-b337-22af7d3a2643",
   "metadata": {},
   "source": [
    "And we define a stepping function in the format\n",
    "\n",
    "`agent_step!(agent, model)`"
   ]
  },
  {
   "cell_type": "code",
   "execution_count": null,
   "id": "45e9d16a-6a2e-4f13-bdfd-3d28baac2547",
   "metadata": {
    "execution": {
     "iopub.execute_input": "2022-02-14T20:07:32.192000Z",
     "iopub.status.busy": "2022-02-14T20:07:32.192000Z",
     "iopub.status.idle": "2022-02-14T20:07:32.313000Z",
     "shell.execute_reply": "2022-02-14T20:07:32.313000Z"
    }
   },
   "outputs": [],
   "source": [
    "function agent_step!(agent::SchellingAgent, model)\n",
    "    minhappy = model.min_to_be_happy\n",
    "    count_neighbors_same_group = 0\n",
    "    # For each neighbor, get group and compare to current agent's group\n",
    "    # and increment count_neighbors_same_group as appropriately.\n",
    "    # Here `nearby_agents` (with default arguments) will provide an iterator\n",
    "    # over the nearby agents one grid point away, which are at most 8.\n",
    "    for neighbor in nearby_agents(agent, model)\n",
    "        if agent.group == neighbor.group\n",
    "            count_neighbors_same_group += 1\n",
    "        end\n",
    "    end\n",
    "    # After counting the neighbors, decide whether or not to move the agent.\n",
    "    # If count_neighbors_same_group is at least the min_to_be_happy, set the\n",
    "    # mood to true. Otherwise, move the agent to a random position.\n",
    "    if count_neighbors_same_group ≥ minhappy\n",
    "        agent.mood = true\n",
    "    else\n",
    "        move_agent_single!(agent, model)\n",
    "    end\n",
    "    return\n",
    "end"
   ]
  },
  {
   "cell_type": "code",
   "execution_count": null,
   "id": "a8871eab-ca21-4bab-819a-7460f8c7cccf",
   "metadata": {
    "execution": {
     "iopub.execute_input": "2022-02-14T20:07:32.319000Z",
     "iopub.status.busy": "2022-02-14T20:07:32.319000Z",
     "iopub.status.idle": "2022-02-14T20:07:32.439000Z",
     "shell.execute_reply": "2022-02-14T20:07:32.439000Z"
    }
   },
   "outputs": [],
   "source": [
    "groupcolor(a) = a.group == 1 ? :blue : :orange\n",
    "groupmarker(a) = a.group == 1 ? :circle : :rect"
   ]
  },
  {
   "cell_type": "code",
   "execution_count": null,
   "id": "0d0b75b4-da99-40e2-83aa-7eaa243f01d9",
   "metadata": {
    "execution": {
     "iopub.execute_input": "2022-02-14T20:07:32.446000Z",
     "iopub.status.busy": "2022-02-14T20:07:32.445000Z",
     "iopub.status.idle": "2022-02-14T20:07:51.522000Z",
     "shell.execute_reply": "2022-02-14T20:07:51.521000Z"
    },
    "tags": []
   },
   "outputs": [],
   "source": [
    "model = make_schelling(griddims = (50, 50), numagents = 1800)\n",
    "\n",
    "anim = @animate for i in 1:25\n",
    "    step!(model, agent_step!)\n",
    "    plotabm(model; warn = false, ac = groupcolor, am = groupmarker, as = 5, \n",
    "        aspect_ratio=:equal, xlims=(0.0, 50.5), ylims = (0.0, 50.5), \n",
    "        title = \"Schelling Step $i\", size=(600, 600))\n",
    "end"
   ]
  },
  {
   "cell_type": "code",
   "execution_count": null,
   "id": "207654f5-ec5b-45ef-84bc-4009db9a9782",
   "metadata": {
    "execution": {
     "iopub.execute_input": "2022-02-14T20:07:51.528000Z",
     "iopub.status.busy": "2022-02-14T20:07:51.527000Z",
     "iopub.status.idle": "2022-02-14T20:07:52.874000Z",
     "shell.execute_reply": "2022-02-14T20:07:52.874000Z"
    },
    "tags": []
   },
   "outputs": [],
   "source": [
    "mp4(anim, fps = 5)"
   ]
  }
 ],
 "metadata": {
  "kernelspec": {
   "display_name": "Julia 1.7.0",
   "language": "julia",
   "name": "julia-1.7"
  },
  "language_info": {
   "file_extension": ".jl",
   "mimetype": "application/julia",
   "name": "julia",
   "version": "1.7.2"
  }
 },
 "nbformat": 4,
 "nbformat_minor": 5
}
