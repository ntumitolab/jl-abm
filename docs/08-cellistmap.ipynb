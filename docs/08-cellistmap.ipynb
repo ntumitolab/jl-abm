{
 "cells": [
  {
   "cell_type": "markdown",
   "source": [
    "# ABM and CellListMap\n",
    "\n",
    "https://github.com/m3g/CellListMap.jl can quickly calculate partical pairs interactions within a cutoff.\n",
    "\n",
    "Modeling the particle repulsion:\n",
    "\n",
    "$$\n",
    "\\begin{align}\n",
    "U(r) &= k_i k_j (r^2 - (r_i - r_j)^2)^2, \\quad \\text{for} r ≤ (r_i + r_j) \\\\\n",
    "U(r) &= 0, \\quad \\text{otherwise}\n",
    "\\end{align}\n",
    "$$"
   ],
   "metadata": {}
  },
  {
   "outputs": [],
   "cell_type": "code",
   "source": [
    "using Agents\n",
    "using CellListMap\n",
    "using CairoMakie\n",
    "CairoMakie.activate!(px_per_unit = 1.0)"
   ],
   "metadata": {},
   "execution_count": null
  },
  {
   "cell_type": "markdown",
   "source": [
    "Define particle agents"
   ],
   "metadata": {}
  },
  {
   "outputs": [],
   "cell_type": "code",
   "source": [
    "@agent struct Particle(ContinuousAgent{2,Float64})\n",
    "    r::Float64 ## radius\n",
    "    k::Float64 ## repulsion force constant\n",
    "    mass::Float64\n",
    "end\n",
    "\n",
    "Particle(; vel, r, k, mass) = (vel, r, k, mass)"
   ],
   "metadata": {},
   "execution_count": null
  },
  {
   "cell_type": "markdown",
   "source": [
    "Building the model"
   ],
   "metadata": {}
  },
  {
   "outputs": [],
   "cell_type": "code",
   "source": [
    "function initialize_bouncing(;\n",
    "    number_of_particles=10_000,\n",
    "    sides=SVector(500.0, 500.0),\n",
    "    dt=0.001,\n",
    "    max_radius=10.0,\n",
    "    parallel=true\n",
    ")\n",
    "    # initial random positions\n",
    "    positions = [sides .* rand(SVector{2,Float64}) for _ in 1:number_of_particles]\n",
    "\n",
    "    # We will use CellListMap to compute forces, with similar structure as the positions\n",
    "    forces = similar(positions)\n",
    "\n",
    "    # Space for the agents\n",
    "    space2d = ContinuousSpace(sides; periodic=true)\n",
    "\n",
    "    # Initialize CellListMap particle system\n",
    "    system = ParticleSystem(\n",
    "        positions=positions,\n",
    "        unitcell=sides,\n",
    "        cutoff=2 * max_radius,\n",
    "        output=forces,\n",
    "        output_name=:forces, ## allows the system.forces alias for clarity\n",
    "        parallel=parallel,\n",
    "    )\n",
    "\n",
    "    # define the ABModel properties\n",
    "    # The system field contains the data required for CellListMap.jl\n",
    "    properties = (;dt, number_of_particles, system)\n",
    "\n",
    "    model = StandardABM(Particle,\n",
    "        space2d;\n",
    "        agent_step!,\n",
    "        model_step!,\n",
    "        agents_first = false,\n",
    "        properties=properties\n",
    "    )\n",
    "\n",
    "    # Create active agents\n",
    "    for id in 1:number_of_particles\n",
    "        pos = positions[id]\n",
    "        prop_particle = Particle(\n",
    "            r = (0.5 + 0.9 * rand()) * max_radius,\n",
    "            k = 10 + 20 * rand(), ## random force constants\n",
    "            mass = 10.0 + 100 * rand(), ## random masses\n",
    "            vel = 100 * randn(SVector{2}) ## initial velocities)\n",
    "            )\n",
    "        add_agent!(pos, Particle, model, prop_particle...)\n",
    "    end\n",
    "\n",
    "    return model\n",
    "end"
   ],
   "metadata": {},
   "execution_count": null
  },
  {
   "cell_type": "markdown",
   "source": [
    "Computing the repulsion force\n",
    "It must follow CellListMap API and return a array for forces acting upon the particles"
   ],
   "metadata": {}
  },
  {
   "outputs": [],
   "cell_type": "code",
   "source": [
    "function calc_forces!(x, y, i, j, d2, forces, model)\n",
    "    p_i = model[i]\n",
    "    p_j = model[j]\n",
    "    d = sqrt(d2)\n",
    "    if d ≤ (p_i.r + p_j.r)\n",
    "        dr = y - x ## x and y are minimum-image relative coordinates\n",
    "        fij = 2 * (p_i.k * p_j.k) * (d2 - (p_i.r + p_j.r)^2) * (dr / d)\n",
    "        forces[i] += fij\n",
    "        forces[j] -= fij\n",
    "    end\n",
    "    return forces\n",
    "end"
   ],
   "metadata": {},
   "execution_count": null
  },
  {
   "cell_type": "markdown",
   "source": [
    "Update the pairwise forces using CellListMap API"
   ],
   "metadata": {}
  },
  {
   "outputs": [],
   "cell_type": "code",
   "source": [
    "function model_step!(model::ABM)\n",
    "    map_pairwise!(\n",
    "        (x, y, i, j, d2, forces) -> calc_forces!(x, y, i, j, d2, forces, model),\n",
    "        model.system,\n",
    "    )\n",
    "    return nothing\n",
    "end"
   ],
   "metadata": {},
   "execution_count": null
  },
  {
   "cell_type": "markdown",
   "source": [
    "Update agent positions and velocity"
   ],
   "metadata": {}
  },
  {
   "outputs": [],
   "cell_type": "code",
   "source": [
    "function agent_step!(agent, model::ABM)\n",
    "    id = agent.id\n",
    "    dt = abmproperties(model).dt\n",
    "    force = model.system.forces[id]\n",
    "    acc = force / agent.mass\n",
    "    # Update positions and velocities\n",
    "    vel = agent.vel + acc * dt\n",
    "    x = agent.pos + vel * dt + (acc / 2) * dt^2\n",
    "    x = normalize_position(x, model)  ## Wraps agent position\n",
    "    agent.vel = vel\n",
    "    move_agent!(agent, x, model)\n",
    "    # !!! Remember to update positions in the ParticleSystem\n",
    "    model.system.positions[id] = agent.pos\n",
    "    return nothing\n",
    "end"
   ],
   "metadata": {},
   "execution_count": null
  },
  {
   "cell_type": "markdown",
   "source": [
    "Run simulation"
   ],
   "metadata": {}
  },
  {
   "outputs": [],
   "cell_type": "code",
   "source": [
    "function simulate(model=nothing; nsteps=1_000, number_of_particles=10_000)\n",
    "    if isnothing(model)\n",
    "        model = initialize_bouncing(number_of_particles=number_of_particles)\n",
    "    end\n",
    "    Agents.step!(model, nsteps)\n",
    "end"
   ],
   "metadata": {},
   "execution_count": null
  },
  {
   "cell_type": "markdown",
   "source": [
    "Test the performance"
   ],
   "metadata": {}
  },
  {
   "outputs": [],
   "cell_type": "code",
   "source": [
    "model = initialize_bouncing(number_of_particles=10_000)\n",
    "@time simulate(model)"
   ],
   "metadata": {},
   "execution_count": null
  },
  {
   "cell_type": "markdown",
   "source": [
    "The helper function below is adapted from `Agents.abmvideo` and correctly displays animations in Jupyter notebooks"
   ],
   "metadata": {}
  },
  {
   "outputs": [],
   "cell_type": "code",
   "source": [
    "function abmvio(model;\n",
    "    dt = 1, framerate = 30, frames = 300, title = \"\", showstep = true,\n",
    "    figure = (size = (600, 600),), axis = NamedTuple(),\n",
    "    recordkwargs = (compression = 23, format =\"mp4\"), kwargs...\n",
    ")\n",
    "    # title and steps\n",
    "    abmtime_obs = Observable(abmtime(model))\n",
    "    if title ≠ \"\" && showstep\n",
    "        t = lift(x -> title*\", time = \"*string(x), abmtime_obs)\n",
    "    elseif showstep\n",
    "        t = lift(x -> \"time = \"*string(x), abmtime_obs)\n",
    "    else\n",
    "        t = title\n",
    "    end\n",
    "\n",
    "    axis = (title = t, titlealign = :left, axis...)\n",
    "    # First frame\n",
    "    fig, ax, abmobs = abmplot(model; add_controls = false, warn_deprecation = false, figure, axis, kwargs...)\n",
    "    resize_to_layout!(fig)\n",
    "    # Animation\n",
    "    Makie.Record(fig; framerate, recordkwargs...) do io\n",
    "        for j in 1:frames-1\n",
    "            recordframe!(io)\n",
    "            Agents.step!(abmobs, dt)\n",
    "            abmtime_obs[] = abmtime(model)\n",
    "        end\n",
    "        recordframe!(io)\n",
    "    end\n",
    "end"
   ],
   "metadata": {},
   "execution_count": null
  },
  {
   "cell_type": "markdown",
   "source": [
    "Visualize"
   ],
   "metadata": {}
  },
  {
   "outputs": [],
   "cell_type": "code",
   "source": [
    "model = initialize_bouncing(number_of_particles=1000)\n",
    "vio = abmvio(\n",
    "    model;\n",
    "    framerate=20, frames=200, dt=5,\n",
    "    title=\"Softly bouncing particles\",\n",
    "    agent_size=p -> p.r,\n",
    "    agent_color=p -> p.k\n",
    ")\n",
    "\n",
    "vio |> display"
   ],
   "metadata": {},
   "execution_count": null
  },
  {
   "cell_type": "markdown",
   "source": [
    "---\n",
    "\n",
    "*This notebook was generated using [Literate.jl](https://github.com/fredrikekre/Literate.jl).*"
   ],
   "metadata": {}
  }
 ],
 "nbformat_minor": 3,
 "metadata": {
  "language_info": {
   "file_extension": ".jl",
   "mimetype": "application/julia",
   "name": "julia",
   "version": "1.12.1"
  },
  "kernelspec": {
   "name": "julia-1.12",
   "display_name": "Julia 1.12.1",
   "language": "julia"
  }
 },
 "nbformat": 4
}