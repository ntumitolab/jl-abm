{
 "cells": [
  {
   "cell_type": "markdown",
   "id": "3aa6d167-bf46-43ce-9a33-c17cfd382c0f",
   "metadata": {},
   "source": [
    "# Example 2: The spread of SARS-CoV-2 (Graph model)\n",
    "\n",
    "[Source](https://juliadynamics.github.io/Agents.jl/stable/examples/sir/) from Agents.jl tutorial\n",
    "\n",
    "Here we add one more category of individuals: those who are infected, but do not know it. Transmission rate for infected and diagnosed individuals is lower than infected and undetected. "
   ]
  },
  {
   "cell_type": "code",
   "execution_count": null,
   "id": "a462a6d2-642f-4755-a341-d64a115530b7",
   "metadata": {
    "execution": {
     "iopub.execute_input": "2022-02-14T20:07:16.415000Z",
     "iopub.status.busy": "2022-02-14T20:07:15.806000Z",
     "iopub.status.idle": "2022-02-14T20:07:30.270000Z",
     "shell.execute_reply": "2022-02-14T20:07:30.237000Z"
    }
   },
   "outputs": [],
   "source": [
    "using Agents, Random, DataFrames, Graphs\n",
    "using Distributions: Poisson, DiscreteNonParametric\n",
    "using CairoMakie"
   ]
  },
  {
   "cell_type": "markdown",
   "id": "73c6cc59",
   "metadata": {},
   "source": [
    "## Define the Model"
   ]
  },
  {
   "cell_type": "code",
   "execution_count": null,
   "id": "9a44717e-8e98-414e-b937-c7b1e6ffe32a",
   "metadata": {
    "execution": {
     "iopub.execute_input": "2022-02-14T20:07:33.035000Z",
     "iopub.status.busy": "2022-02-14T20:07:30.274000Z",
     "iopub.status.idle": "2022-02-14T20:07:33.112000Z",
     "shell.execute_reply": "2022-02-14T20:07:33.112000Z"
    }
   },
   "outputs": [],
   "source": [
    "mutable struct PoorSoul <: AbstractAgent\n",
    "    id::Int             # Unique agent ID\n",
    "    pos::Int            # Which city\n",
    "    days_infected::Int  # number of days since is infected\n",
    "    status::Symbol      # S/I/R\n",
    "end"
   ]
  },
  {
   "cell_type": "code",
   "execution_count": null,
   "id": "bdcd04fb-2956-4c5e-b82d-740bd5d393c1",
   "metadata": {
    "execution": {
     "iopub.execute_input": "2022-02-14T20:07:33.116000Z",
     "iopub.status.busy": "2022-02-14T20:07:33.116000Z",
     "iopub.status.idle": "2022-02-14T20:07:33.571000Z",
     "shell.execute_reply": "2022-02-14T20:07:33.571000Z"
    }
   },
   "outputs": [],
   "source": [
    "function make_SIRgraph(;\n",
    "    Ns,                 # Populations of the cities\n",
    "    migration_rates,    # Rate of people moving from one city to another\n",
    "    β_und,              # Transmission rate of infected but undetected\n",
    "    β_det,              # Transmission rate of infected and detected\n",
    "    infection_period = 30,\n",
    "    reinfection_probability = 0.05,\n",
    "    detection_time = 14,\n",
    "    death_rate = 0.02,\n",
    "    Is = [zeros(Int, length(Ns) - 1)..., 1],  # An array for initial number of infected but undetected people per city.\n",
    "    seed = 2022,\n",
    ")\n",
    "\n",
    "    rng = MersenneTwister(seed)\n",
    "\n",
    "    @assert length(Ns) == length(Is) == length(β_und) == length(β_det) == size(migration_rates, 1) \"length of Ns, Is, and B, and number of rows/columns in migration_rates should be the same \"\n",
    "    @assert size(migration_rates, 1) == size(migration_rates, 2) \"migration_rates rates should be a square matrix\"\n",
    "\n",
    "    C = length(Ns) # Number of cities\n",
    "\t\n",
    "    # normalize migration_rates\n",
    "    migration_rates_sum = sum(migration_rates, dims = 2)\n",
    "    for c in 1:C\n",
    "        migration_rates[c, :] ./= migration_rates_sum[c]\n",
    "    end\n",
    "\n",
    "    # properties as a NamedTuple\n",
    "    properties = (;\n",
    "        Ns,\n",
    "        Is,\n",
    "        β_und,\n",
    "        β_det,\n",
    "        migration_rates,\n",
    "        infection_period,\n",
    "        reinfection_probability,\n",
    "        detection_time,\n",
    "        C,\n",
    "        death_rate\n",
    "    )\n",
    "\t\n",
    "\t\n",
    "    space = GraphSpace(complete_digraph(C))\n",
    "    model = ABM(PoorSoul, space; properties, rng)\n",
    "\n",
    "    # Add initial susceptible individuals\n",
    "    for city in 1:C, n in 1:Ns[city]\n",
    "        ind = add_agent!(city, model, 0, :S)\n",
    "    end\n",
    "    # add infected individuals\n",
    "    for city in 1:C\n",
    "        inds = ids_in_position(city, model)\n",
    "        for n in 1:Is[city]\n",
    "            agent = model[inds[n]]\n",
    "            agent.status = :I # Infected\n",
    "            agent.days_infected = 1\n",
    "        end\n",
    "    end\n",
    "    return model\n",
    "end"
   ]
  },
  {
   "cell_type": "code",
   "execution_count": null,
   "id": "245fcf2c-da7f-42e2-9eec-a8d9ad92dc66",
   "metadata": {
    "execution": {
     "iopub.execute_input": "2022-02-14T20:07:33.576000Z",
     "iopub.status.busy": "2022-02-14T20:07:33.576000Z",
     "iopub.status.idle": "2022-02-14T20:07:33.707000Z",
     "shell.execute_reply": "2022-02-14T20:07:33.707000Z"
    }
   },
   "outputs": [],
   "source": [
    "using LinearAlgebra: diagind\n",
    "\n",
    "function make_SIRgraphParams(;\n",
    "\tC,\n",
    "    max_travel_rate,\n",
    "    infection_period = 30,\n",
    "    reinfection_probability = 0.05,\n",
    "    detection_time = 14,\n",
    "    death_rate = 0.02,\n",
    "    Is = [zeros(Int, C - 1)..., 1],\n",
    "    seed = 2022,\n",
    ")\n",
    "\t# For reproducibility\n",
    "\tRandom.seed!(seed)\n",
    "\t\n",
    "\t# City population\n",
    "    Ns = rand(50:5000, C)\n",
    "\t\n",
    "\t# Undetected transmission\n",
    "    β_und = rand(0.3:0.02:0.6, C)\n",
    "\t\n",
    "\t# Detected transmission (set to 10% of undetected)\n",
    "    β_det = β_und ./ 10\n",
    "\t\n",
    "\t# Migrate from city i to city j\n",
    "\t# People in small cities tend to migrate to bigger cities\n",
    "\tmigration_rates = zeros(C, C)\n",
    "    for c in 1:C, c2 in 1:C\n",
    "        migration_rates[c, c2] = (Ns[c] + Ns[c2]) / Ns[c]\n",
    "    end\n",
    "\t\n",
    "\t# Normalize migration rates\n",
    "\tmaxM = maximum(migration_rates)\n",
    "    migration_rates = (migration_rates .* max_travel_rate) ./ maxM\n",
    "\t\n",
    "\t# Migrate to self = 1\n",
    "    migration_rates[diagind(migration_rates)] .= 1.0\n",
    "\t\n",
    "\treturn (; Ns,\n",
    "        β_und,\n",
    "        β_det,\n",
    "        migration_rates,\n",
    "        infection_period,\n",
    "        reinfection_probability,\n",
    "        detection_time,\n",
    "        death_rate,\n",
    "        Is)\n",
    "end"
   ]
  },
  {
   "cell_type": "code",
   "execution_count": null,
   "id": "59d049a3-adb6-4710-bd1b-f123f87a68f8",
   "metadata": {
    "execution": {
     "iopub.execute_input": "2022-02-14T20:07:33.711000Z",
     "iopub.status.busy": "2022-02-14T20:07:33.710000Z",
     "iopub.status.idle": "2022-02-14T20:07:36.337000Z",
     "shell.execute_reply": "2022-02-14T20:07:36.337000Z"
    }
   },
   "outputs": [],
   "source": [
    "SIRgraphparams = make_SIRgraphParams(C = 8, max_travel_rate = 0.01)"
   ]
  },
  {
   "cell_type": "code",
   "execution_count": null,
   "id": "7e24322f-8169-4a39-8dab-35f50c7cb550",
   "metadata": {
    "execution": {
     "iopub.execute_input": "2022-02-14T20:07:36.342000Z",
     "iopub.status.busy": "2022-02-14T20:07:36.342000Z",
     "iopub.status.idle": "2022-02-14T20:07:36.459000Z",
     "shell.execute_reply": "2022-02-14T20:07:36.459000Z"
    }
   },
   "outputs": [],
   "source": [
    "# Stepping function in the SIR Agent-based model\n",
    "\n",
    "function migrate!(agent, model)\n",
    "    pid = agent.pos\n",
    "    d = DiscreteNonParametric(1:(model.C), model.migration_rates[pid, :])\n",
    "    m = rand(model.rng, d)\n",
    "    if m ≠ pid\n",
    "        move_agent!(agent, m, model)\n",
    "    end\n",
    "end\n",
    "\n",
    "function transmit!(agent, model)\n",
    "    agent.status == :S && return\n",
    "    rate = if agent.days_infected < model.detection_time\n",
    "        model.β_und[agent.pos]\n",
    "    else\n",
    "        model.β_det[agent.pos]\n",
    "    end\n",
    "\n",
    "    d = Poisson(rate)\n",
    "    n = rand(model.rng, d)\n",
    "    n == 0 && return\n",
    "\n",
    "    for contactID in ids_in_position(agent, model)\n",
    "        contact = model[contactID]\n",
    "        if contact.status == :S ||\n",
    "           (contact.status == :R && rand(model.rng) ≤ model.reinfection_probability)\n",
    "            contact.status = :I\n",
    "            n -= 1\n",
    "            n == 0 && return\n",
    "        end\n",
    "    end\n",
    "end\n",
    "\n",
    "# Count infected days of the agent\n",
    "update!(agent, model) = agent.status == :I && (agent.days_infected += 1)\n",
    "\n",
    "function recover_or_die!(agent, model)\n",
    "    if agent.days_infected ≥ model.infection_period\n",
    "        if rand(model.rng) ≤ model.death_rate\n",
    "            kill_agent!(agent, model)\n",
    "        else\n",
    "            agent.status = :R\n",
    "            agent.days_infected = 0\n",
    "        end\n",
    "    end\n",
    "end\n",
    "\n",
    "function agent_step!(agent::PoorSoul, model)\n",
    "    migrate!(agent, model)\n",
    "    transmit!(agent, model)\n",
    "    update!(agent, model)\n",
    "    recover_or_die!(agent, model)\n",
    "end"
   ]
  },
  {
   "cell_type": "code",
   "execution_count": null,
   "id": "e3707a14-3013-469c-9fdd-eff7a42ddc0c",
   "metadata": {
    "execution": {
     "iopub.execute_input": "2022-02-14T20:07:36.967000Z",
     "iopub.status.busy": "2022-02-14T20:07:36.967000Z",
     "iopub.status.idle": "2022-02-14T20:07:38.162000Z",
     "shell.execute_reply": "2022-02-14T20:07:38.162000Z"
    }
   },
   "outputs": [],
   "source": [
    "model = make_SIRgraph(; SIRgraphparams...)"
   ]
  },
  {
   "cell_type": "markdown",
   "id": "bd303e83",
   "metadata": {},
   "source": [
    "## Animation\n",
    "\n",
    "At the moment [abmplot](https://juliadynamics.github.io/Agents.jl/stable/agents_visualizations/#InteractiveDynamics.abmplot) does not plot `GraphSpace`s, but we can still utilize the [ABMObservable](https://juliadynamics.github.io/Agents.jl/stable/agents_visualizations/#InteractiveDynamics.ABMObservable). We do not need to collect data here, only the current status of the model will be used in visualization."
   ]
  },
  {
   "cell_type": "code",
   "execution_count": null,
   "id": "dadd8b84-b9c7-46d3-9230-9efe7ecdc2dc",
   "metadata": {
    "execution": {
     "iopub.execute_input": "2022-02-14T20:07:38.168000Z",
     "iopub.status.busy": "2022-02-14T20:07:38.168000Z",
     "iopub.status.idle": "2022-02-14T20:08:09.055000Z",
     "shell.execute_reply": "2022-02-14T20:08:09.055000Z"
    }
   },
   "outputs": [],
   "source": [
    "using InteractiveDynamics\n",
    "using CairoMakie\n",
    "abmobs = ABMObservable(model; agent_step!)  # Observable: The quantity that updates dynamically and interactively"
   ]
  },
  {
   "cell_type": "code",
   "execution_count": null,
   "id": "da420bf8",
   "metadata": {},
   "outputs": [],
   "source": [
    "infected_fraction(m, x) = count(m[id].status == :I for id in x) / length(x)\n",
    "infected_fractions(m) = [infected_fraction(m, ids_in_position(p, m)) for p in positions(m)]\n",
    "\n",
    "# Connect (lift) model obervable to fracs, color, and the title.\n",
    "fracs = lift(infected_fractions, abmobs.model)\n",
    "color = lift(fs -> [cgrad(:inferno)[f] for f in fs], fracs)\n",
    "title = lift(\n",
    "    (s, m) -> \"step = $(s), infected = $(round(Int, 100infected_fraction(m, allids(m))))%\",\n",
    "    abmobs.s, abmobs.model\n",
    ")"
   ]
  },
  {
   "cell_type": "code",
   "execution_count": null,
   "id": "db766d50",
   "metadata": {},
   "outputs": [],
   "source": [
    "fig = Figure(resolution = (600, 400))\n",
    "ax = Axis(fig[1, 1]; title, xlabel = \"City\", ylabel = \"Population\")\n",
    "barplot!(ax, model.Ns; strokecolor = :black, strokewidth = 1, color)\n",
    "fig"
   ]
  },
  {
   "cell_type": "code",
   "execution_count": null,
   "id": "ddb78e76",
   "metadata": {},
   "outputs": [],
   "source": [
    "record(fig, \"covid_evolution.mp4\"; framerate = 5) do io\n",
    "    for j in 1:30\n",
    "        recordframe!(io)\n",
    "        Agents.step!(abmobs, 1)\n",
    "    end\n",
    "    recordframe!(io)\n",
    "end"
   ]
  },
  {
   "cell_type": "markdown",
   "id": "9790aaa0",
   "metadata": {},
   "source": [
    "## Data Collection"
   ]
  },
  {
   "cell_type": "code",
   "execution_count": null,
   "id": "14b11d15",
   "metadata": {},
   "outputs": [],
   "source": [
    "# Helper functions\n",
    "\n",
    "infected(x) = count(i == :I for i in x)\n",
    "recovered(x) = count(i == :R for i in x)"
   ]
  },
  {
   "cell_type": "code",
   "execution_count": null,
   "id": "2d82d8f7",
   "metadata": {},
   "outputs": [],
   "source": [
    "model = make_SIRgraph(; SIRgraphparams...)\n",
    "\n",
    "to_collect = [(:status, f) for f in (infected, recovered, length)]\n",
    "data, _ = run!(model, agent_step!, 100; adata = to_collect)\n",
    "data[1:10, :]"
   ]
  },
  {
   "cell_type": "code",
   "execution_count": null,
   "id": "f4154f4b",
   "metadata": {},
   "outputs": [],
   "source": [
    "N = sum(model.Ns) # Total initial population\n",
    "x = data.step\n",
    "fig = Figure(resolution = (600, 400))\n",
    "ax = fig[1, 1] = Axis(fig, xlabel = \"steps\", ylabel = \"log10(count)\")\n",
    "li = lines!(ax, x, log10.(data[:, aggname(:status, infected)]), color = :blue)\n",
    "lr = lines!(ax, x, log10.(data[:, aggname(:status, recovered)]), color = :red)\n",
    "dead = log10.(N .- data[:, aggname(:status, length)])\n",
    "ld = lines!(ax, x, dead, color = :green)\n",
    "fig[1, 2] = Legend(fig, [li, lr, ld], [\"infected\", \"recovered\", \"dead\"], textsize = 12)\n",
    "fig"
   ]
  },
  {
   "cell_type": "markdown",
   "id": "a52db786",
   "metadata": {},
   "source": [
    "The exponential growth is clearly visible since the logarithm of the number of infected increases linearly, until everyone is infected."
   ]
  }
 ],
 "metadata": {
  "kernelspec": {
   "display_name": "Julia 1.7.2",
   "language": "julia",
   "name": "julia-1.7"
  },
  "language_info": {
   "file_extension": ".jl",
   "mimetype": "application/julia",
   "name": "julia",
   "version": "1.7.2"
  }
 },
 "nbformat": 4,
 "nbformat_minor": 5
}
