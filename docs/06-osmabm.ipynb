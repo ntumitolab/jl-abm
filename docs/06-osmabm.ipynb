{
 "cells": [
  {
   "cell_type": "markdown",
   "metadata": {},
   "source": [
    "# Open street map example\n",
    "\n",
    "The zombie outbreak model showcases an ABM running on a map, using `OpenStreetMapSpace`."
   ]
  },
  {
   "cell_type": "code",
   "execution_count": null,
   "metadata": {},
   "outputs": [],
   "source": [
    "using Agents\n",
    "using Random\n",
    "using CairoMakie\n",
    "using OSMMakie\n",
    "CairoMakie.activate!(px_per_unit = 1.0)"
   ]
  },
  {
   "cell_type": "markdown",
   "metadata": {},
   "source": [
    "The helper function is adapted from `Agents.abmvideo` and correctly displays animations in Jupyter notebooks"
   ]
  },
  {
   "cell_type": "code",
   "execution_count": null,
   "metadata": {},
   "outputs": [],
   "source": [
    "function abmvio(model;\n",
    "    dt = 1, framerate = 30, frames = 300, title = \"\", showstep = true,\n",
    "    figure = (size = (600, 600),), axis = NamedTuple(),\n",
    "    recordkwargs = (compression = 23, format =\"mp4\"), kwargs...\n",
    ")\n",
    "    # title and steps\n",
    "    abmtime_obs = Observable(abmtime(model))\n",
    "    if title ≠ \"\" && showstep\n",
    "        t = lift(x -> title*\", time = \"*string(x), abmtime_obs)\n",
    "    elseif showstep\n",
    "        t = lift(x -> \"time = \"*string(x), abmtime_obs)\n",
    "    else\n",
    "        t = title\n",
    "    end\n",
    "\n",
    "    axis = (title = t, titlealign = :left, axis...)\n",
    "    # First frame\n",
    "    fig, ax, abmobs = abmplot(model; add_controls = false, warn_deprecation = false, figure, axis, kwargs...)\n",
    "    resize_to_layout!(fig)\n",
    "    # Animation\n",
    "    Makie.Record(fig; framerate, recordkwargs...) do io\n",
    "        for j in 1:frames-1\n",
    "            recordframe!(io)\n",
    "            Agents.step!(abmobs, dt)\n",
    "            abmtime_obs[] = abmtime(model)\n",
    "        end\n",
    "        recordframe!(io)\n",
    "    end\n",
    "end"
   ]
  },
  {
   "cell_type": "markdown",
   "metadata": {},
   "source": [
    "Agents for zombies and healthy humans"
   ]
  },
  {
   "cell_type": "code",
   "execution_count": null,
   "metadata": {},
   "outputs": [],
   "source": [
    "@agent struct Zombie(OSMAgent)\n",
    "    infected::Bool\n",
    "    speed::Float64\n",
    "end"
   ]
  },
  {
   "cell_type": "markdown",
   "metadata": {},
   "source": [
    "Model factory"
   ]
  },
  {
   "cell_type": "code",
   "execution_count": null,
   "metadata": {},
   "outputs": [],
   "source": [
    "function initialise_zombies(; seed = 1234)\n",
    "    map_path = OSM.test_map()\n",
    "    properties = Dict(:dt => 1 / 60)\n",
    "\n",
    "    model = StandardABM(\n",
    "        Zombie,\n",
    "        OpenStreetMapSpace(map_path);\n",
    "        agent_step! = zombie_step!,\n",
    "        properties = properties,\n",
    "        rng = Random.MersenneTwister(seed)\n",
    "    )\n",
    "\n",
    "    for id in 1:100\n",
    "        start = random_position(model) ## At an intersection\n",
    "        speed = rand(abmrng(model)) * 5.0 + 2.0 ## Random speed from 2-7kmph\n",
    "        human = add_agent!(start, Zombie, model, false, speed)\n",
    "        OSM.plan_random_route!(human, model; limit = 50) ## try 50 times to find a random route\n",
    "    end\n",
    "\n",
    "    # We'll add patient zero at a specific (longitude, latitude)\n",
    "    start = OSM.nearest_road((9.9351811, 51.5328328), model)\n",
    "    finish = OSM.nearest_node((9.945125635913511, 51.530876112711745), model)\n",
    "\n",
    "    speed = rand(abmrng(model)) * 5.0 + 2.0 ## Random speed from 2-7kmph\n",
    "    zombie = add_agent!(start, model, true, speed)\n",
    "    plan_route!(zombie, finish, model)\n",
    "    return model\n",
    "end"
   ]
  },
  {
   "cell_type": "markdown",
   "metadata": {},
   "source": [
    "Stepping function"
   ]
  },
  {
   "cell_type": "code",
   "execution_count": null,
   "metadata": {},
   "outputs": [],
   "source": [
    "function zombie_step!(agent, model)\n",
    "    # Each agent will progress along their route\n",
    "    # Keep track of distance left to move this step, in case the agent reaches its\n",
    "    # destination early\n",
    "    distance_left = move_along_route!(agent, model, agent.speed * model.dt)\n",
    "\n",
    "    if is_stationary(agent, model) && rand(abmrng(model)) < 0.1\n",
    "        # When stationary, give the agent a 10% chance of going somewhere else\n",
    "        OSM.plan_random_route!(agent, model; limit = 50)\n",
    "        # Start on new route, moving the remaining distance\n",
    "        move_along_route!(agent, model, distance_left)\n",
    "    end\n",
    "\n",
    "    # Agents will be infected if they get too close (within 10m) to a zombie.\n",
    "    if agent.infected\n",
    "        map(i -> model[i].infected = true, nearby_ids(agent, model, 0.01))\n",
    "    end\n",
    "    return\n",
    "end"
   ]
  },
  {
   "cell_type": "markdown",
   "metadata": {},
   "source": [
    "## Animation"
   ]
  },
  {
   "cell_type": "code",
   "execution_count": null,
   "metadata": {},
   "outputs": [],
   "source": [
    "zombie_color(agent) = agent.infected ? :green : :black\n",
    "zombie_size(agent) = agent.infected ? 10 : 8\n",
    "zombies = initialise_zombies()\n",
    "\n",
    "abmvio(zombies;\n",
    "    title = \"Zombie outbreak\", framerate = 15, frames = 200,\n",
    "    agent_color = zombie_color, agent_size = zombie_size\n",
    ")"
   ]
  }
 ],
 "metadata": {
  "kernelspec": {
   "display_name": "Julia 1.10.4",
   "language": "julia",
   "name": "julia-1.10"
  },
  "language_info": {
   "file_extension": ".jl",
   "mimetype": "application/julia",
   "name": "julia",
   "version": "1.10.4"
  }
 },
 "nbformat": 4,
 "nbformat_minor": 3
}
