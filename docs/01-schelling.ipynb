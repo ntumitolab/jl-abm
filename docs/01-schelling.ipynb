{
 "cells": [
  {
   "cell_type": "markdown",
   "id": "f705a7cc-e485-4f56-a095-935a7f0b2ed7",
   "metadata": {},
   "source": [
    "# Schelling's segregation model\n",
    "\n",
    "This example is taken from `Agents.jl` [tutorial](https://juliadynamics.github.io/Agents.jl/stable/examples/schelling/).\n",
    "\n",
    "- Agents : They belong to one of two groups (0 or 1).\n",
    "- Model : Each position of the grid can be occupied by at most one agent.\n",
    "- For each step\n",
    "  - If an agent has at least 3 neighbors belonging to the same group, then it is happy.\n",
    "  - If an agent is unhappy, it keeps moving to new locations until it is happy.\n",
    "\n",
    "To define an agent type, we should make a mutable struct derived from `AbstractAgent` with 2 mandatory fields:\n",
    "- `id::Int` . The identifier number of the agent.\n",
    "- `pos` . For agents on a 2D grid, the position field should be a tuple of 2 integers.\n",
    "\n",
    "On top of that, we could define other properties for the agents.\n",
    "\n",
    "```julia\n",
    "mutable struct SchellingAgent <: AbstractAgent\n",
    "    id::Int             # The identifier number of the agent\n",
    "    pos::NTuple{2, Int} # The x, y location of the agent on a 2D grid\n",
    "    mood::Bool          # whether the agent is happy in its position. (true = happy)\n",
    "    group::Int          # The group of the agent, determines mood as it interacts with neighbors\n",
    "end\n",
    "```"
   ]
  },
  {
   "cell_type": "markdown",
   "id": "6614aad5",
   "metadata": {},
   "source": [
    "## Setup\n",
    "\n",
    "First, we create a 2D space with a Chebyshev metric. This leads to *8 neighboring positions* per position (except at the edges of the grid)."
   ]
  },
  {
   "cell_type": "code",
   "execution_count": null,
   "id": "cba202c4",
   "metadata": {},
   "outputs": [],
   "source": [
    "using Agents\n",
    "\n",
    "# Creating a space\n",
    "space = GridSpace((10, 10); periodic = false)"
   ]
  },
  {
   "cell_type": "markdown",
   "id": "19769e87",
   "metadata": {},
   "source": [
    "We define the Agent type using the [`@agent`](https://juliadynamics.github.io/Agents.jl/stable/api/#@agent-macro-1) macro. Thus we don't have to setup the mandatory `id` and `pos` fields by ourselves. The relevant fileds are `mood` (whetehr the agent is happy or not) and `group` (which group the agent is on)."
   ]
  },
  {
   "cell_type": "code",
   "execution_count": null,
   "id": "836962db",
   "metadata": {},
   "outputs": [],
   "source": [
    "@agent SchellingAgent GridAgent{2} begin\n",
    "    mood::Bool  # True = happy\n",
    "    group::Int  # 0 or 1\n",
    "end"
   ]
  },
  {
   "cell_type": "code",
   "execution_count": null,
   "id": "85a04eb9",
   "metadata": {},
   "outputs": [],
   "source": [
    "properties = Dict(:min_to_be_happy => 3) # Parameter for the ABM\n",
    "\n",
    "schelling = ABM(SchellingAgent, space; properties)\n",
    "# schelling2 = ABM(SchellingAgent, space; properties = properties, scheduler = Schedulers.by_property(:group),)  # Custom scheduler"
   ]
  },
  {
   "cell_type": "markdown",
   "id": "5a8c5b63",
   "metadata": {},
   "source": [
    "We setup the model using an `initialize()` function to make the model easier to reproduce and change its parameter(s)."
   ]
  },
  {
   "cell_type": "code",
   "execution_count": null,
   "id": "54f153e4",
   "metadata": {},
   "outputs": [],
   "source": [
    "using Random # for reproducibility in the RNG\n",
    "\n",
    "function initialize(; numagents = 320, griddims = (20, 20), min_to_be_happy = 3, seed = 125)\n",
    "    space = GridSpace(griddims, periodic = false)\n",
    "    properties = Dict(:min_to_be_happy => min_to_be_happy)\n",
    "    rng = Random.MersenneTwister(seed)\n",
    "    model = ABM(\n",
    "        SchellingAgent, space;\n",
    "        properties, \n",
    "        rng, \n",
    "        scheduler = Schedulers.randomly\n",
    "    )\n",
    "\n",
    "    # populate the model with agents, adding equal amount of the two types of agents\n",
    "    # at random positions in the model\n",
    "    for n in 1:numagents\n",
    "        agent = SchellingAgent(n, (1, 1), false, n < numagents / 2 ? 1 : 2)\n",
    "        add_agent_single!(agent, model)  # We don't need to set the starting position. Agents package chooses randomly for us.\n",
    "    end\n",
    "    return model\n",
    "end"
   ]
  },
  {
   "cell_type": "markdown",
   "id": "675253e6",
   "metadata": {},
   "source": [
    "Finally, we define a step function `agent_step!()` to determine what happens to each agent. We use some built-in functions: `nearby_agents()` and `move_agent_single!()`."
   ]
  },
  {
   "cell_type": "code",
   "execution_count": null,
   "id": "f380129d",
   "metadata": {},
   "outputs": [],
   "source": [
    "function agent_step!(agent, model)\n",
    "    minhappy = model.min_to_be_happy\n",
    "    count_neighbors_same_group = 0\n",
    "    # For each neighbor, get group and compare to current agent's group\n",
    "    # and increment count_neighbors_same_group as appropriately.\n",
    "    # Here `nearby_agents` (with default arguments) will provide an iterator\n",
    "    # over the nearby agents one grid point away, which are at most 8.\n",
    "    for neighbor in nearby_agents(agent, model)\n",
    "        if agent.group == neighbor.group\n",
    "            count_neighbors_same_group += 1\n",
    "        end\n",
    "    end\n",
    "    if count_neighbors_same_group ≥ minhappy\n",
    "        # The agent is happy\n",
    "        agent.mood = true\n",
    "    else\n",
    "        # Move the agent to a random position\n",
    "        move_agent_single!(agent, model)  \n",
    "    end\n",
    "    return\n",
    "end"
   ]
  },
  {
   "cell_type": "markdown",
   "id": "fd3ab0dd",
   "metadata": {},
   "source": [
    "## Stepping the model"
   ]
  },
  {
   "cell_type": "code",
   "execution_count": null,
   "id": "b3848a10",
   "metadata": {},
   "outputs": [],
   "source": [
    "model = initialize()"
   ]
  },
  {
   "cell_type": "markdown",
   "id": "b47e96bd",
   "metadata": {},
   "source": [
    "The `step!()` function moves the model forward. `run!()` is similar to `step!()` but also collects data along the simulation."
   ]
  },
  {
   "cell_type": "code",
   "execution_count": null,
   "id": "68a9da40",
   "metadata": {},
   "outputs": [],
   "source": [
    "# Move the model by one iteration\n",
    "step!(model, agent_step!)"
   ]
  },
  {
   "cell_type": "code",
   "execution_count": null,
   "id": "34ca25d3",
   "metadata": {},
   "outputs": [],
   "source": [
    "# Move the model by 3 iterations\n",
    "step!(model, agent_step!, 3)"
   ]
  },
  {
   "cell_type": "markdown",
   "id": "7dd86648",
   "metadata": {},
   "source": [
    "## Visualization"
   ]
  },
  {
   "cell_type": "markdown",
   "id": "9a22e7f2",
   "metadata": {},
   "source": [
    "The `abm_plot()` function visulizes the simulation result. By default `Makie.jl` is used."
   ]
  },
  {
   "cell_type": "code",
   "execution_count": null,
   "id": "3f5c5bf2",
   "metadata": {},
   "outputs": [],
   "source": [
    "using InteractiveDynamics\n",
    "using CairoMakie            # Makie with the Cario backend\n",
    "\n",
    "# Some helper functions to identify agent groups.\n",
    "groupcolor(a) = a.group == 1 ? :blue : :orange\n",
    "groupmarker(a) = a.group == 1 ? :circle : :rect"
   ]
  },
  {
   "cell_type": "code",
   "execution_count": null,
   "id": "375e4d50",
   "metadata": {},
   "outputs": [],
   "source": [
    "model = initialize(griddims = (50, 50), numagents = 1800)\n",
    "figure, _ = abmplot(model; ac = groupcolor, am = groupmarker, as = 10)\n",
    "figure  # The static figure"
   ]
  },
  {
   "cell_type": "markdown",
   "id": "46301b97",
   "metadata": {},
   "source": [
    "Let's make the simulation move. Since there is not `IPython.video()` analog in IJulia, "
   ]
  },
  {
   "cell_type": "code",
   "execution_count": null,
   "id": "09a632b1",
   "metadata": {},
   "outputs": [],
   "source": [
    "model = initialize(griddims = (50, 50), numagents = 1800)\n",
    "\n",
    "abmvideo(\n",
    "    \"schelling.mp4\", model, agent_step!;\n",
    "    ac = groupcolor, am = groupmarker, as = 10,\n",
    "    framerate = 4, frames = 20,\n",
    "    title = \"Schelling's segregation model\"\n",
    ")"
   ]
  },
  {
   "cell_type": "code",
   "execution_count": null,
   "id": "e9c1560a-a675-41f6-af96-f149a320c412",
   "metadata": {},
   "outputs": [],
   "source": [
    "using Base64\n",
    "\n",
    "function display_mp4(filename)\n",
    "    display(\"text/html\", string(\"\"\"<video autoplay controls><source src=\"data:video/x-m4v;base64,\"\"\",\n",
    "        Base64.base64encode(open(read, filename)),\"\"\"\" type=\"video/mp4\"></video>\"\"\"))\n",
    "end\n",
    "\n",
    "display_mp4(\"schelling.mp4\")"
   ]
  },
  {
   "cell_type": "markdown",
   "id": "bd9c0b52",
   "metadata": {},
   "source": [
    "## Data analysis\n",
    "\n",
    "The `run!()` function rusn simulation and collects data in the `DataFrame` format. The `adata` (aggregated data) keyword extacts information in the DataFrame."
   ]
  },
  {
   "cell_type": "code",
   "execution_count": null,
   "id": "bd854525",
   "metadata": {},
   "outputs": [],
   "source": [
    "# aggregated data. fields we want to extract\n",
    "adata = [:pos, :mood, :group]\n",
    "\n",
    "model = initialize()\n",
    "data, _ = run!(model, agent_step!, 5; adata)\n",
    "data[1:10, :] # print only the first 10 rows"
   ]
  },
  {
   "cell_type": "code",
   "execution_count": null,
   "id": "4d5c1073",
   "metadata": {},
   "outputs": [],
   "source": [
    "# adata also accepts functions\n",
    "x(agent) = agent.pos[1]\n",
    "model = initialize()\n",
    "adata = [x, :mood, :group]\n",
    "data, _ = run!(model, agent_step!, 5; adata)\n",
    "data[1:10, :]"
   ]
  },
  {
   "cell_type": "markdown",
   "id": "15d77454",
   "metadata": {},
   "source": [
    "## Launching an interactive app\n",
    "\n",
    "See [this section](https://juliadynamics.github.io/Agents.jl/stable/examples/schelling/#Launching-the-interactive-application-1) using `abm_data_exploration()` in the official tutorial."
   ]
  },
  {
   "cell_type": "markdown",
   "id": "02041e5b",
   "metadata": {},
   "source": [
    "## Saving the model state\n",
    "\n",
    "- `AgentsIO.save_checkpoint()`\n",
    "- `AgentsIO.load_checkpoint()`"
   ]
  },
  {
   "cell_type": "code",
   "execution_count": null,
   "id": "d4840fcf",
   "metadata": {},
   "outputs": [],
   "source": [
    "model = initialize(numagents = 200, min_to_be_happy = 5, seed = 42)\n",
    "\n",
    "run!(model, agent_step!, 40)\n",
    "\n",
    "figure, _ = abmplot(model; ac = groupcolor, am = groupmarker, as = 10)\n",
    "# State after 40 steps\n",
    "figure"
   ]
  },
  {
   "cell_type": "code",
   "execution_count": null,
   "id": "56b3968a",
   "metadata": {},
   "outputs": [],
   "source": [
    "# Save the model state (to be loaded later)\n",
    "# jld2 as to Julia is \"pickle\" as to Python\n",
    "AgentsIO.save_checkpoint(\"schelling.jld2\", model)"
   ]
  },
  {
   "cell_type": "code",
   "execution_count": null,
   "id": "b6fe798b",
   "metadata": {},
   "outputs": [],
   "source": [
    "# Load the model\n",
    "model = AgentsIO.load_checkpoint(\"schelling.jld2\"; scheduler = Schedulers.randomly)"
   ]
  },
  {
   "cell_type": "code",
   "execution_count": null,
   "id": "3f0b3ba5",
   "metadata": {},
   "outputs": [],
   "source": [
    "# Mees with this model by adding more blue agents\n",
    "for i in 1:100\n",
    "    agent = SchellingAgent(nextid(model), (1, 1), false, 1)\n",
    "    add_agent_single!(agent, model)\n",
    "end"
   ]
  },
  {
   "cell_type": "code",
   "execution_count": null,
   "id": "b1819528",
   "metadata": {},
   "outputs": [],
   "source": [
    "figure, _ = abmplot(model; ac = groupcolor, am = groupmarker, as = 10)\n",
    "figure"
   ]
  },
  {
   "cell_type": "code",
   "execution_count": null,
   "id": "5a9ebbd9",
   "metadata": {},
   "outputs": [],
   "source": [
    "step!(model, agent_step!, 40)\n",
    "\n",
    "figure, _ = abmplot(model; ac = groupcolor, am = groupmarker, as = 10)\n",
    "figure"
   ]
  },
  {
   "cell_type": "markdown",
   "id": "9a5d3b1a",
   "metadata": {},
   "source": [
    "And let's try what happens if we add one more group (green) of agents."
   ]
  },
  {
   "cell_type": "code",
   "execution_count": null,
   "id": "c65b1acf",
   "metadata": {},
   "outputs": [],
   "source": [
    "model = AgentsIO.load_checkpoint(\"schelling.jld2\"; scheduler = Schedulers.randomly)\n",
    "\n",
    "for i in 1:100\n",
    "    agent = SchellingAgent(nextid(model), (1, 1), false, 3)\n",
    "    add_agent_single!(agent, model)\n",
    "end\n",
    "\n",
    "groupcolor(a) = (:blue, :orange, :green)[a.group]\n",
    "groupmarker(a) = (:circle, :rect, :cross)[a.group]\n",
    "\n",
    "figure, _ = abmplot(model; ac = groupcolor, am = groupmarker, as = 10)\n",
    "figure"
   ]
  },
  {
   "cell_type": "code",
   "execution_count": null,
   "id": "2c53dec1",
   "metadata": {},
   "outputs": [],
   "source": [
    "step!(model, agent_step!, 40)\n",
    "\n",
    "figure, _ = abmplot(model; ac = groupcolor, am = groupmarker, as = 10)\n",
    "figure"
   ]
  }
 ],
 "metadata": {
  "kernelspec": {
   "display_name": "Julia 1.8.0",
   "language": "julia",
   "name": "julia-1.8"
  },
  "language_info": {
   "file_extension": ".jl",
   "mimetype": "application/julia",
   "name": "julia",
   "version": "1.8.0"
  }
 },
 "nbformat": 4,
 "nbformat_minor": 5
}
